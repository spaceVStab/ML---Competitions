{
 "cells": [
  {
   "cell_type": "code",
   "execution_count": 71,
   "metadata": {},
   "outputs": [],
   "source": [
    "import numpy as np\n",
    "import pandas as pd \n",
    "from matplotlib import pyplot as plt"
   ]
  },
  {
   "cell_type": "code",
   "execution_count": 72,
   "metadata": {},
   "outputs": [],
   "source": [
    "train = pd.read_csv(\"train.csv\")\n",
    "test = pd.read_csv(\"test.csv\")"
   ]
  },
  {
   "cell_type": "code",
   "execution_count": 76,
   "metadata": {},
   "outputs": [
    {
     "data": {
      "text/html": [
       "<div>\n",
       "<style>\n",
       "    .dataframe thead tr:only-child th {\n",
       "        text-align: right;\n",
       "    }\n",
       "\n",
       "    .dataframe thead th {\n",
       "        text-align: left;\n",
       "    }\n",
       "\n",
       "    .dataframe tbody tr th {\n",
       "        vertical-align: top;\n",
       "    }\n",
       "</style>\n",
       "<table border=\"1\" class=\"dataframe\">\n",
       "  <thead>\n",
       "    <tr style=\"text-align: right;\">\n",
       "      <th></th>\n",
       "      <th>portfolio_id</th>\n",
       "      <th>desk_id</th>\n",
       "      <th>office_id</th>\n",
       "      <th>pf_category</th>\n",
       "      <th>start_date</th>\n",
       "      <th>sold</th>\n",
       "      <th>country_code</th>\n",
       "      <th>euribor_rate</th>\n",
       "      <th>currency</th>\n",
       "      <th>libor_rate</th>\n",
       "      <th>...</th>\n",
       "      <th>indicator_code</th>\n",
       "      <th>sell_date</th>\n",
       "      <th>type</th>\n",
       "      <th>hedge_value</th>\n",
       "      <th>status</th>\n",
       "      <th>return</th>\n",
       "      <th>country_code_enc</th>\n",
       "      <th>currency_enc</th>\n",
       "      <th>pf_cat_enc</th>\n",
       "      <th>portfolio_id_enc</th>\n",
       "    </tr>\n",
       "  </thead>\n",
       "  <tbody>\n",
       "    <tr>\n",
       "      <th>0</th>\n",
       "      <td>PF00001002</td>\n",
       "      <td>DSK00001001</td>\n",
       "      <td>OFF00001002</td>\n",
       "      <td>B</td>\n",
       "      <td>20040720</td>\n",
       "      <td>110000000.0</td>\n",
       "      <td>T</td>\n",
       "      <td>0.02074</td>\n",
       "      <td>USD</td>\n",
       "      <td>2.332216</td>\n",
       "      <td>...</td>\n",
       "      <td>NaN</td>\n",
       "      <td>20040812</td>\n",
       "      <td>B</td>\n",
       "      <td>NaN</td>\n",
       "      <td>NaN</td>\n",
       "      <td>0.02496</td>\n",
       "      <td>2</td>\n",
       "      <td>4</td>\n",
       "      <td>1</td>\n",
       "      <td>1</td>\n",
       "    </tr>\n",
       "    <tr>\n",
       "      <th>1</th>\n",
       "      <td>PF00001003</td>\n",
       "      <td>DSK00001002</td>\n",
       "      <td>OFF00001001</td>\n",
       "      <td>A</td>\n",
       "      <td>20040709</td>\n",
       "      <td>176671000.0</td>\n",
       "      <td>N</td>\n",
       "      <td>0.02074</td>\n",
       "      <td>GBP</td>\n",
       "      <td>5.269617</td>\n",
       "      <td>...</td>\n",
       "      <td>NaN</td>\n",
       "      <td>20040812</td>\n",
       "      <td>C</td>\n",
       "      <td>NaN</td>\n",
       "      <td>NaN</td>\n",
       "      <td>0.05496</td>\n",
       "      <td>1</td>\n",
       "      <td>2</td>\n",
       "      <td>0</td>\n",
       "      <td>2</td>\n",
       "    </tr>\n",
       "    <tr>\n",
       "      <th>2</th>\n",
       "      <td>PF00001005</td>\n",
       "      <td>DSK00001004</td>\n",
       "      <td>OFF00001001</td>\n",
       "      <td>A</td>\n",
       "      <td>20040723</td>\n",
       "      <td>56474000.0</td>\n",
       "      <td>T</td>\n",
       "      <td>0.02074</td>\n",
       "      <td>USD</td>\n",
       "      <td>2.332216</td>\n",
       "      <td>...</td>\n",
       "      <td>NaN</td>\n",
       "      <td>20040817</td>\n",
       "      <td>A</td>\n",
       "      <td>NaN</td>\n",
       "      <td>NaN</td>\n",
       "      <td>0.02496</td>\n",
       "      <td>2</td>\n",
       "      <td>4</td>\n",
       "      <td>0</td>\n",
       "      <td>4</td>\n",
       "    </tr>\n",
       "    <tr>\n",
       "      <th>3</th>\n",
       "      <td>PF00001006</td>\n",
       "      <td>DSK00001005</td>\n",
       "      <td>OFF00001001</td>\n",
       "      <td>A</td>\n",
       "      <td>20040609</td>\n",
       "      <td>164813000.0</td>\n",
       "      <td>T</td>\n",
       "      <td>0.02074</td>\n",
       "      <td>USD</td>\n",
       "      <td>2.332216</td>\n",
       "      <td>...</td>\n",
       "      <td>NaN</td>\n",
       "      <td>20040713</td>\n",
       "      <td>A</td>\n",
       "      <td>NaN</td>\n",
       "      <td>NaN</td>\n",
       "      <td>0.02496</td>\n",
       "      <td>2</td>\n",
       "      <td>4</td>\n",
       "      <td>0</td>\n",
       "      <td>5</td>\n",
       "    </tr>\n",
       "    <tr>\n",
       "      <th>4</th>\n",
       "      <td>PF00001007</td>\n",
       "      <td>DSK00001005</td>\n",
       "      <td>OFF00001002</td>\n",
       "      <td>B</td>\n",
       "      <td>20040609</td>\n",
       "      <td>140800000.0</td>\n",
       "      <td>T</td>\n",
       "      <td>0.02074</td>\n",
       "      <td>USD</td>\n",
       "      <td>2.332216</td>\n",
       "      <td>...</td>\n",
       "      <td>NaN</td>\n",
       "      <td>20040713</td>\n",
       "      <td>B</td>\n",
       "      <td>NaN</td>\n",
       "      <td>NaN</td>\n",
       "      <td>0.02496</td>\n",
       "      <td>2</td>\n",
       "      <td>4</td>\n",
       "      <td>1</td>\n",
       "      <td>6</td>\n",
       "    </tr>\n",
       "  </tbody>\n",
       "</table>\n",
       "<p>5 rows × 22 columns</p>\n",
       "</div>"
      ],
      "text/plain": [
       "  portfolio_id      desk_id    office_id pf_category  start_date         sold  \\\n",
       "0   PF00001002  DSK00001001  OFF00001002           B    20040720  110000000.0   \n",
       "1   PF00001003  DSK00001002  OFF00001001           A    20040709  176671000.0   \n",
       "2   PF00001005  DSK00001004  OFF00001001           A    20040723   56474000.0   \n",
       "3   PF00001006  DSK00001005  OFF00001001           A    20040609  164813000.0   \n",
       "4   PF00001007  DSK00001005  OFF00001002           B    20040609  140800000.0   \n",
       "\n",
       "  country_code  euribor_rate currency  libor_rate        ...         \\\n",
       "0            T       0.02074      USD    2.332216        ...          \n",
       "1            N       0.02074      GBP    5.269617        ...          \n",
       "2            T       0.02074      USD    2.332216        ...          \n",
       "3            T       0.02074      USD    2.332216        ...          \n",
       "4            T       0.02074      USD    2.332216        ...          \n",
       "\n",
       "   indicator_code  sell_date type  hedge_value status   return  \\\n",
       "0             NaN   20040812    B          NaN    NaN  0.02496   \n",
       "1             NaN   20040812    C          NaN    NaN  0.05496   \n",
       "2             NaN   20040817    A          NaN    NaN  0.02496   \n",
       "3             NaN   20040713    A          NaN    NaN  0.02496   \n",
       "4             NaN   20040713    B          NaN    NaN  0.02496   \n",
       "\n",
       "  country_code_enc  currency_enc  pf_cat_enc  portfolio_id_enc  \n",
       "0                2             4           1                 1  \n",
       "1                1             2           0                 2  \n",
       "2                2             4           0                 4  \n",
       "3                2             4           0                 5  \n",
       "4                2             4           1                 6  \n",
       "\n",
       "[5 rows x 22 columns]"
      ]
     },
     "execution_count": 76,
     "metadata": {},
     "output_type": "execute_result"
    }
   ],
   "source": [
    "train.head()"
   ]
  },
  {
   "cell_type": "code",
   "execution_count": 74,
   "metadata": {},
   "outputs": [],
   "source": [
    "from sklearn.preprocessing import LabelEncoder"
   ]
  },
  {
   "cell_type": "code",
   "execution_count": 86,
   "metadata": {},
   "outputs": [],
   "source": [
    "label_encoder = LabelEncoder()\n",
    "\n",
    "#create the encoding for loop chutiye\n",
    "label_encoder.fit(np.hstack([train.country_code, test.country_code]))\n",
    "train['country_code_enc'] = pd.DataFrame(label_encoder.transform(train.country_code))\n",
    "test['country_code_enc'] = pd.DataFrame(label_encoder.transform(test.country_code))\n",
    "\n",
    "label_encoder.fit(np.hstack([train.currency, test.currency]))\n",
    "train['currency_enc'] = pd.DataFrame(label_encoder.transform(train.currency))\n",
    "test['currency_enc'] = pd.DataFrame(label_encoder.transform(test.currency))\n",
    "\n",
    "label_encoder.fit(np.hstack([train.pf_category, test.pf_category]))\n",
    "train['pf_cat_enc'] = pd.DataFrame(label_encoder.transform(train.pf_category))\n",
    "test['pf_cat_enc'] = pd.DataFrame(label_encoder.transform(test.pf_category))\n",
    "\n",
    "label_encoder.fit(np.hstack([train.portfolio_id, test.portfolio_id]))\n",
    "train['portfolio_id_enc'] = pd.DataFrame(label_encoder.transform(train.portfolio_id))\n",
    "test['portfolio_id_enc'] = pd.DataFrame(label_encoder.transform(test.portfolio_id))\n",
    "\n",
    "train['desk_id'].fillna(\"DSK00001000\", inplace=True)\n",
    "test['desk_id'].fillna(\"DSK00001000\", inplace=True)\n",
    "label_encoder.fit(np.hstack([train.desk_id, test.desk_id]))\n",
    "train['desk_id_enc'] = pd.DataFrame(label_encoder.transform(train.desk_id))\n",
    "test['desk_id_enc'] = pd.DataFrame(label_encoder.transform(test.desk_id))\n",
    "\n",
    "label_encoder.fit(np.hstack([train.office_id, test.office_id]))\n",
    "train['office_id_enc'] = pd.DataFrame(label_encoder.transform(train.office_id))\n",
    "test['office_id_enc'] = pd.DataFrame(label_encoder.transform(test.office_id))\n"
   ]
  },
  {
   "cell_type": "code",
   "execution_count": 134,
   "metadata": {
    "scrolled": true
   },
   "outputs": [
    {
     "data": {
      "text/plain": [
       "Index(['euribor_rate', 'libor_rate', 'return', 'country_code_enc',\n",
       "       'currency_enc', 'pf_cat_enc', 'portfolio_id_enc', 'office_id_enc',\n",
       "       'desk_id_enc', 'balance', 'ind_code_enc', 'type_enc', 'hedge_value_enc',\n",
       "       'status_enc'],\n",
       "      dtype='object')"
      ]
     },
     "execution_count": 134,
     "metadata": {},
     "output_type": "execute_result"
    }
   ],
   "source": [
    "features = train.columns\n",
    "features"
   ]
  },
  {
   "cell_type": "code",
   "execution_count": 132,
   "metadata": {},
   "outputs": [],
   "source": [
    "test = test.drop(['portfolio_id','desk_id','office_id','pf_category','start_date','sold','country_code','currency','bought','creation_date','indicator_code','sell_date','type','hedge_value','status'],axis=1)"
   ]
  },
  {
   "cell_type": "code",
   "execution_count": 138,
   "metadata": {},
   "outputs": [],
   "source": [
    "train = train.drop(['return'],axis=1)"
   ]
  },
  {
   "cell_type": "code",
   "execution_count": 91,
   "metadata": {},
   "outputs": [],
   "source": [
    "train['balance'] = train.sold - train.bought\n",
    "test['balance'] = test.sold - test.bought"
   ]
  },
  {
   "cell_type": "code",
   "execution_count": 126,
   "metadata": {
    "collapsed": true
   },
   "outputs": [
    {
     "data": {
      "text/plain": [
       "['ind_code_enc',\n",
       " 'type_enc',\n",
       " 'hedge_value_enc',\n",
       " 'status_enc',\n",
       " 'euribor_rate',\n",
       " 'libor_rate',\n",
       " 'country_code_enc',\n",
       " 'currency_enc',\n",
       " 'pf_cat_enc',\n",
       " 'portfolio_id_enc',\n",
       " 'office_id_enc',\n",
       " 'desk_id_enc',\n",
       " 'balance']"
      ]
     },
     "execution_count": 126,
     "metadata": {},
     "output_type": "execute_result"
    }
   ],
   "source": [
    "imp_feat = ['ind_code_enc','type_enc','hedge_value_enc','status_enc','euribor_rate','libor_rate','country_code_enc','currency_enc','pf_cat_enc','portfolio_id_enc','office_id_enc','desk_id_enc','balance']\n",
    "imp_feat"
   ]
  },
  {
   "cell_type": "code",
   "execution_count": 165,
   "metadata": {},
   "outputs": [
    {
     "data": {
      "text/plain": [
       "False    9366\n",
       "Name: desk_id_enc, dtype: int64"
      ]
     },
     "execution_count": 165,
     "metadata": {},
     "output_type": "execute_result"
    }
   ],
   "source": [
    "train.desk_id_enc.isnull().value_counts()\n",
    "#train['libor_rate'].fillna(0, inplace=True)"
   ]
  },
  {
   "cell_type": "code",
   "execution_count": 166,
   "metadata": {},
   "outputs": [],
   "source": [
    "ps1_train = train.copy()\n"
   ]
  },
  {
   "cell_type": "code",
   "execution_count": 110,
   "metadata": {},
   "outputs": [],
   "source": [
    "train['indicator_code'].fillna(False, inplace=True)\n",
    "test['indicator_code'].fillna(False, inplace=True)\n",
    "label_encoder.fit(np.hstack([train.indicator_code, test.indicator_code]))\n",
    "train['ind_code_enc'] = pd.DataFrame(label_encoder.transform(train.indicator_code))\n",
    "test['ind_code_enc'] = pd.DataFrame(label_encoder.transform(test.indicator_code))\n",
    "\n",
    "label_encoder.fit(np.hstack([train.type, test.type]))\n",
    "train['type_enc'] = pd.DataFrame(label_encoder.transform(train.type))\n",
    "test['type_enc'] = pd.DataFrame(label_encoder.transform(test.type))\n",
    "\n",
    "train['hedge_value'].fillna(False, inplace=True)\n",
    "test['hedge_value'].fillna(False, inplace=True)\n",
    "label_encoder.fit(np.hstack([train.hedge_value, test.hedge_value]))\n",
    "train['hedge_value_enc'] = pd.DataFrame(label_encoder.transform(train.hedge_value))\n",
    "test['hedge_value_enc'] = pd.DataFrame(label_encoder.transform(test.hedge_value))\n",
    "\n",
    "train['status'].fillna(False, inplace=True)\n",
    "test['status'].fillna(False, inplace=True)\n",
    "label_encoder.fit(np.hstack([train.status, test.status]))\n",
    "train['status_enc'] = pd.DataFrame(label_encoder.transform(train.status))\n",
    "test['status_enc'] = pd.DataFrame(label_encoder.transform(test.status))\n"
   ]
  },
  {
   "cell_type": "code",
   "execution_count": 130,
   "metadata": {},
   "outputs": [],
   "source": [
    "from sklearn.ensemble import RandomForestRegressor\n",
    "\n",
    "rf = RandomForestRegressor(random_state = 0)"
   ]
  },
  {
   "cell_type": "code",
   "execution_count": 172,
   "metadata": {},
   "outputs": [
    {
     "data": {
      "text/plain": [
       "RandomForestRegressor(bootstrap=True, criterion='mse', max_depth=None,\n",
       "           max_features='auto', max_leaf_nodes=None,\n",
       "           min_impurity_decrease=0.0, min_impurity_split=None,\n",
       "           min_samples_leaf=1, min_samples_split=2,\n",
       "           min_weight_fraction_leaf=0.0, n_estimators=10, n_jobs=1,\n",
       "           oob_score=False, random_state=0, verbose=0, warm_start=False)"
      ]
     },
     "execution_count": 172,
     "metadata": {},
     "output_type": "execute_result"
    }
   ],
   "source": [
    "rf.fit(ps1_train,y)"
   ]
  },
  {
   "cell_type": "code",
   "execution_count": 180,
   "metadata": {},
   "outputs": [
    {
     "data": {
      "text/plain": [
       "array([ 0.02525478,  0.02525478,  0.02525478, ...,  0.00614833,\n",
       "        0.00547173,  0.00590644])"
      ]
     },
     "execution_count": 180,
     "metadata": {},
     "output_type": "execute_result"
    }
   ],
   "source": [
    "pred = rf.predict(ps1_test)\n",
    "pred"
   ]
  },
  {
   "cell_type": "code",
   "execution_count": 173,
   "metadata": {},
   "outputs": [],
   "source": [
    "ps1_test = test.copy()"
   ]
  },
  {
   "cell_type": "code",
   "execution_count": 178,
   "metadata": {},
   "outputs": [
    {
     "data": {
      "text/plain": [
       "False    4801\n",
       "Name: euribor_rate, dtype: int64"
      ]
     },
     "execution_count": 178,
     "metadata": {},
     "output_type": "execute_result"
    }
   ],
   "source": [
    "ps1_test.euribor_rate.isnull().value_counts()\n",
    "#ps1_test.fillna(0, inplace=True)"
   ]
  },
  {
   "cell_type": "code",
   "execution_count": 181,
   "metadata": {},
   "outputs": [],
   "source": [
    "sub = pd.DataFrame({'return':pred})"
   ]
  },
  {
   "cell_type": "code",
   "execution_count": 182,
   "metadata": {},
   "outputs": [],
   "source": [
    "sub.to_csv('pred.csv')"
   ]
  }
 ],
 "metadata": {
  "kernelspec": {
   "display_name": "Python 3",
   "language": "python",
   "name": "python3"
  },
  "language_info": {
   "codemirror_mode": {
    "name": "ipython",
    "version": 3
   },
   "file_extension": ".py",
   "mimetype": "text/x-python",
   "name": "python",
   "nbconvert_exporter": "python",
   "pygments_lexer": "ipython3",
   "version": "3.4.3"
  }
 },
 "nbformat": 4,
 "nbformat_minor": 2
}
