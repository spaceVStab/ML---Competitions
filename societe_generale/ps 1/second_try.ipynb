{
 "cells": [
  {
   "cell_type": "code",
   "execution_count": 1,
   "metadata": {},
   "outputs": [],
   "source": [
    "import numpy as np\n",
    "import pandas as pd \n",
    "from matplotlib import pyplot as plt\n",
    "%matplotlib inline"
   ]
  },
  {
   "cell_type": "code",
   "execution_count": 2,
   "metadata": {},
   "outputs": [],
   "source": [
    "train_ps1 = pd.read_csv(\"train.csv\")\n",
    "test_ps1 = pd.read_csv(\"test.csv\")"
   ]
  },
  {
   "cell_type": "code",
   "execution_count": 7,
   "metadata": {
    "scrolled": true
   },
   "outputs": [
    {
     "data": {
      "text/plain": [
       "dtype('int64')"
      ]
     },
     "execution_count": 7,
     "metadata": {},
     "output_type": "execute_result"
    }
   ],
   "source": [
    "train_ps1.head(10)\n",
    "train_ps1.start_date.dtype"
   ]
  },
  {
   "cell_type": "code",
   "execution_count": 6,
   "metadata": {},
   "outputs": [
    {
     "data": {
      "text/html": [
       "<div>\n",
       "<style>\n",
       "    .dataframe thead tr:only-child th {\n",
       "        text-align: right;\n",
       "    }\n",
       "\n",
       "    .dataframe thead th {\n",
       "        text-align: left;\n",
       "    }\n",
       "\n",
       "    .dataframe tbody tr th {\n",
       "        vertical-align: top;\n",
       "    }\n",
       "</style>\n",
       "<table border=\"1\" class=\"dataframe\">\n",
       "  <thead>\n",
       "    <tr style=\"text-align: right;\">\n",
       "      <th></th>\n",
       "      <th>portfolio_id</th>\n",
       "      <th>desk_id</th>\n",
       "      <th>office_id</th>\n",
       "      <th>pf_category</th>\n",
       "      <th>start_date</th>\n",
       "      <th>sold</th>\n",
       "      <th>country_code</th>\n",
       "      <th>euribor_rate</th>\n",
       "      <th>currency</th>\n",
       "      <th>libor_rate</th>\n",
       "      <th>bought</th>\n",
       "      <th>creation_date</th>\n",
       "      <th>indicator_code</th>\n",
       "      <th>sell_date</th>\n",
       "      <th>type</th>\n",
       "      <th>hedge_value</th>\n",
       "      <th>status</th>\n",
       "    </tr>\n",
       "  </thead>\n",
       "  <tbody>\n",
       "    <tr>\n",
       "      <th>0</th>\n",
       "      <td>PF00001001</td>\n",
       "      <td>DSK00001001</td>\n",
       "      <td>OFF00001001</td>\n",
       "      <td>A</td>\n",
       "      <td>20040720</td>\n",
       "      <td>171831000.0</td>\n",
       "      <td>T</td>\n",
       "      <td>0.02074</td>\n",
       "      <td>USD</td>\n",
       "      <td>2.332216</td>\n",
       "      <td>1.715337e+08</td>\n",
       "      <td>20040720</td>\n",
       "      <td>NaN</td>\n",
       "      <td>20040812</td>\n",
       "      <td>A</td>\n",
       "      <td>NaN</td>\n",
       "      <td>NaN</td>\n",
       "    </tr>\n",
       "    <tr>\n",
       "      <th>1</th>\n",
       "      <td>PF00001004</td>\n",
       "      <td>DSK00001003</td>\n",
       "      <td>OFF00001002</td>\n",
       "      <td>B</td>\n",
       "      <td>20040723</td>\n",
       "      <td>56485000.0</td>\n",
       "      <td>T</td>\n",
       "      <td>0.02074</td>\n",
       "      <td>USD</td>\n",
       "      <td>2.332216</td>\n",
       "      <td>5.638038e+07</td>\n",
       "      <td>20040723</td>\n",
       "      <td>NaN</td>\n",
       "      <td>20040719</td>\n",
       "      <td>B</td>\n",
       "      <td>NaN</td>\n",
       "      <td>NaN</td>\n",
       "    </tr>\n",
       "    <tr>\n",
       "      <th>2</th>\n",
       "      <td>PF00001009</td>\n",
       "      <td>DSK00001007</td>\n",
       "      <td>OFF00001001</td>\n",
       "      <td>A</td>\n",
       "      <td>20040607</td>\n",
       "      <td>41734000.0</td>\n",
       "      <td>T</td>\n",
       "      <td>0.02074</td>\n",
       "      <td>USD</td>\n",
       "      <td>2.332216</td>\n",
       "      <td>4.166179e+07</td>\n",
       "      <td>20040726</td>\n",
       "      <td>NaN</td>\n",
       "      <td>20040709</td>\n",
       "      <td>A</td>\n",
       "      <td>NaN</td>\n",
       "      <td>NaN</td>\n",
       "    </tr>\n",
       "    <tr>\n",
       "      <th>3</th>\n",
       "      <td>PF00001013</td>\n",
       "      <td>DSK00001011</td>\n",
       "      <td>OFF00001001</td>\n",
       "      <td>A</td>\n",
       "      <td>20040716</td>\n",
       "      <td>82951000.0</td>\n",
       "      <td>T</td>\n",
       "      <td>0.02074</td>\n",
       "      <td>USD</td>\n",
       "      <td>2.332216</td>\n",
       "      <td>8.250936e+07</td>\n",
       "      <td>20040726</td>\n",
       "      <td>NaN</td>\n",
       "      <td>20041019</td>\n",
       "      <td>A</td>\n",
       "      <td>NaN</td>\n",
       "      <td>NaN</td>\n",
       "    </tr>\n",
       "    <tr>\n",
       "      <th>4</th>\n",
       "      <td>PF00001014</td>\n",
       "      <td>DSK00001012</td>\n",
       "      <td>OFF00001001</td>\n",
       "      <td>A</td>\n",
       "      <td>20040713</td>\n",
       "      <td>73293000.0</td>\n",
       "      <td>T</td>\n",
       "      <td>0.02074</td>\n",
       "      <td>USD</td>\n",
       "      <td>2.332216</td>\n",
       "      <td>7.317055e+07</td>\n",
       "      <td>20040726</td>\n",
       "      <td>NaN</td>\n",
       "      <td>20040813</td>\n",
       "      <td>A</td>\n",
       "      <td>NaN</td>\n",
       "      <td>NaN</td>\n",
       "    </tr>\n",
       "    <tr>\n",
       "      <th>5</th>\n",
       "      <td>PF00001015</td>\n",
       "      <td>DSK00001013</td>\n",
       "      <td>OFF00001001</td>\n",
       "      <td>A</td>\n",
       "      <td>20040710</td>\n",
       "      <td>212553000.0</td>\n",
       "      <td>T</td>\n",
       "      <td>0.02074</td>\n",
       "      <td>USD</td>\n",
       "      <td>2.332216</td>\n",
       "      <td>2.114103e+08</td>\n",
       "      <td>20040727</td>\n",
       "      <td>NaN</td>\n",
       "      <td>20041013</td>\n",
       "      <td>A</td>\n",
       "      <td>NaN</td>\n",
       "      <td>NaN</td>\n",
       "    </tr>\n",
       "    <tr>\n",
       "      <th>6</th>\n",
       "      <td>PF00001017</td>\n",
       "      <td>DSK00001015</td>\n",
       "      <td>OFF00001001</td>\n",
       "      <td>A</td>\n",
       "      <td>20040804</td>\n",
       "      <td>72831000.0</td>\n",
       "      <td>T</td>\n",
       "      <td>0.02075</td>\n",
       "      <td>USD</td>\n",
       "      <td>2.181960</td>\n",
       "      <td>7.270110e+07</td>\n",
       "      <td>20040804</td>\n",
       "      <td>NaN</td>\n",
       "      <td>20040816</td>\n",
       "      <td>A</td>\n",
       "      <td>NaN</td>\n",
       "      <td>NaN</td>\n",
       "    </tr>\n",
       "    <tr>\n",
       "      <th>7</th>\n",
       "      <td>PF00001023</td>\n",
       "      <td>DSK00001019</td>\n",
       "      <td>OFF00001001</td>\n",
       "      <td>A</td>\n",
       "      <td>20040712</td>\n",
       "      <td>44088000.0</td>\n",
       "      <td>T</td>\n",
       "      <td>0.02075</td>\n",
       "      <td>USD</td>\n",
       "      <td>2.181960</td>\n",
       "      <td>4.400673e+07</td>\n",
       "      <td>20040809</td>\n",
       "      <td>NaN</td>\n",
       "      <td>20040816</td>\n",
       "      <td>A</td>\n",
       "      <td>NaN</td>\n",
       "      <td>NaN</td>\n",
       "    </tr>\n",
       "    <tr>\n",
       "      <th>8</th>\n",
       "      <td>PF00001024</td>\n",
       "      <td>DSK00001020</td>\n",
       "      <td>OFF00001001</td>\n",
       "      <td>A</td>\n",
       "      <td>20040810</td>\n",
       "      <td>80234000.0</td>\n",
       "      <td>T</td>\n",
       "      <td>0.02075</td>\n",
       "      <td>USD</td>\n",
       "      <td>2.181960</td>\n",
       "      <td>7.978402e+07</td>\n",
       "      <td>20040810</td>\n",
       "      <td>NaN</td>\n",
       "      <td>20041116</td>\n",
       "      <td>A</td>\n",
       "      <td>NaN</td>\n",
       "      <td>NaN</td>\n",
       "    </tr>\n",
       "    <tr>\n",
       "      <th>9</th>\n",
       "      <td>PF00001025</td>\n",
       "      <td>DSK00001021</td>\n",
       "      <td>OFF00001001</td>\n",
       "      <td>A</td>\n",
       "      <td>20040810</td>\n",
       "      <td>176748000.0</td>\n",
       "      <td>N</td>\n",
       "      <td>0.02075</td>\n",
       "      <td>GBP</td>\n",
       "      <td>5.024006</td>\n",
       "      <td>1.760042e+08</td>\n",
       "      <td>20040810</td>\n",
       "      <td>NaN</td>\n",
       "      <td>20040913</td>\n",
       "      <td>C</td>\n",
       "      <td>NaN</td>\n",
       "      <td>NaN</td>\n",
       "    </tr>\n",
       "  </tbody>\n",
       "</table>\n",
       "</div>"
      ],
      "text/plain": [
       "  portfolio_id      desk_id    office_id pf_category  start_date         sold  \\\n",
       "0   PF00001001  DSK00001001  OFF00001001           A    20040720  171831000.0   \n",
       "1   PF00001004  DSK00001003  OFF00001002           B    20040723   56485000.0   \n",
       "2   PF00001009  DSK00001007  OFF00001001           A    20040607   41734000.0   \n",
       "3   PF00001013  DSK00001011  OFF00001001           A    20040716   82951000.0   \n",
       "4   PF00001014  DSK00001012  OFF00001001           A    20040713   73293000.0   \n",
       "5   PF00001015  DSK00001013  OFF00001001           A    20040710  212553000.0   \n",
       "6   PF00001017  DSK00001015  OFF00001001           A    20040804   72831000.0   \n",
       "7   PF00001023  DSK00001019  OFF00001001           A    20040712   44088000.0   \n",
       "8   PF00001024  DSK00001020  OFF00001001           A    20040810   80234000.0   \n",
       "9   PF00001025  DSK00001021  OFF00001001           A    20040810  176748000.0   \n",
       "\n",
       "  country_code  euribor_rate currency  libor_rate        bought  \\\n",
       "0            T       0.02074      USD    2.332216  1.715337e+08   \n",
       "1            T       0.02074      USD    2.332216  5.638038e+07   \n",
       "2            T       0.02074      USD    2.332216  4.166179e+07   \n",
       "3            T       0.02074      USD    2.332216  8.250936e+07   \n",
       "4            T       0.02074      USD    2.332216  7.317055e+07   \n",
       "5            T       0.02074      USD    2.332216  2.114103e+08   \n",
       "6            T       0.02075      USD    2.181960  7.270110e+07   \n",
       "7            T       0.02075      USD    2.181960  4.400673e+07   \n",
       "8            T       0.02075      USD    2.181960  7.978402e+07   \n",
       "9            N       0.02075      GBP    5.024006  1.760042e+08   \n",
       "\n",
       "   creation_date indicator_code  sell_date type hedge_value status  \n",
       "0       20040720            NaN   20040812    A         NaN    NaN  \n",
       "1       20040723            NaN   20040719    B         NaN    NaN  \n",
       "2       20040726            NaN   20040709    A         NaN    NaN  \n",
       "3       20040726            NaN   20041019    A         NaN    NaN  \n",
       "4       20040726            NaN   20040813    A         NaN    NaN  \n",
       "5       20040727            NaN   20041013    A         NaN    NaN  \n",
       "6       20040804            NaN   20040816    A         NaN    NaN  \n",
       "7       20040809            NaN   20040816    A         NaN    NaN  \n",
       "8       20040810            NaN   20041116    A         NaN    NaN  \n",
       "9       20040810            NaN   20040913    C         NaN    NaN  "
      ]
     },
     "execution_count": 6,
     "metadata": {},
     "output_type": "execute_result"
    }
   ],
   "source": [
    "test_ps1.head(10)"
   ]
  },
  {
   "cell_type": "code",
   "execution_count": 8,
   "metadata": {},
   "outputs": [
    {
     "data": {
      "text/plain": [
       "['portfolio_id',\n",
       " 'desk_id',\n",
       " 'office_id',\n",
       " 'pf_category',\n",
       " 'country_code',\n",
       " 'currency',\n",
       " 'type']"
      ]
     },
     "execution_count": 8,
     "metadata": {},
     "output_type": "execute_result"
    }
   ],
   "source": [
    "#preprocessong\n",
    "#encoding the required variables\n",
    "encoding_req = ['portfolio_id','desk_id','office_id','pf_category','country_code','currency','type']\n",
    "encoding_req\n"
   ]
  },
  {
   "cell_type": "code",
   "execution_count": 36,
   "metadata": {
    "scrolled": true
   },
   "outputs": [
    {
     "data": {
      "text/plain": [
       "5301    3665\n",
       "4769      10\n",
       "4637      10\n",
       "4523       9\n",
       "4494       9\n",
       "4712       9\n",
       "4488       9\n",
       "4663       9\n",
       "4557       8\n",
       "4497       8\n",
       "4672       8\n",
       "4788       8\n",
       "4699       7\n",
       "4451       7\n",
       "4762       7\n",
       "4578       7\n",
       "4368       7\n",
       "4524       7\n",
       "4271       7\n",
       "4704       7\n",
       "4369       7\n",
       "4509       7\n",
       "4485       7\n",
       "4784       7\n",
       "4668       7\n",
       "4424       7\n",
       "4503       7\n",
       "4571       7\n",
       "4733       7\n",
       "3289       7\n",
       "        ... \n",
       "3917       1\n",
       "1868       1\n",
       "2036       1\n",
       "2052       1\n",
       "117        1\n",
       "5          1\n",
       "2164       1\n",
       "4207       1\n",
       "109        1\n",
       "2156       1\n",
       "2148       1\n",
       "85         1\n",
       "2132       1\n",
       "77         1\n",
       "2124       1\n",
       "4167       1\n",
       "2108       1\n",
       "4151       1\n",
       "53         1\n",
       "4143       1\n",
       "45         1\n",
       "2092       1\n",
       "4135       1\n",
       "37         1\n",
       "29         1\n",
       "2076       1\n",
       "21         1\n",
       "2068       1\n",
       "2060       1\n",
       "0          1\n",
       "Name: desk_id, Length: 3993, dtype: int64"
      ]
     },
     "execution_count": 36,
     "metadata": {},
     "output_type": "execute_result"
    }
   ],
   "source": [
    "train_ps1.desk_id.value_counts()"
   ]
  },
  {
   "cell_type": "code",
   "execution_count": 9,
   "metadata": {},
   "outputs": [],
   "source": [
    "from sklearn.preprocessing import LabelEncoder\n",
    "label_enc = LabelEncoder()\n"
   ]
  },
  {
   "cell_type": "code",
   "execution_count": 10,
   "metadata": {},
   "outputs": [],
   "source": [
    "train_ps1['desk_id'].fillna(\"null\", inplace = True)\n",
    "test_ps1['desk_id'].fillna(\"null\", inplace = True)\n",
    "train_ps1['indicator_code'].fillna(False, inplace = True)\n",
    "train_ps1['status'].fillna(False, inplace = True)\n",
    "train_ps1['hedge_value'].fillna(False, inplace = True)\n",
    "test_ps1['indicator_code'].fillna(False, inplace = True)\n",
    "test_ps1['status'].fillna(False, inplace = True)\n",
    "test_ps1['hedge_value'].fillna(False, inplace = True)"
   ]
  },
  {
   "cell_type": "code",
   "execution_count": 11,
   "metadata": {},
   "outputs": [],
   "source": [
    "train_ps1['balance'] = train_ps1.sold - train_ps1.bought\n",
    "test_ps1['balance'] = test_ps1.sold - test_ps1.bought"
   ]
  },
  {
   "cell_type": "code",
   "execution_count": 12,
   "metadata": {},
   "outputs": [],
   "source": [
    "train_ps1.libor_rate.fillna(train_ps1.libor_rate.mean(), inplace = True)\n",
    "train_ps1.balance.fillna(train_ps1.balance.mean(), inplace=True)\n",
    "test_ps1.libor_rate.fillna(test_ps1.libor_rate.mean(), inplace = True)\n",
    "test_ps1.balance.fillna(test_ps1.balance.mean(), inplace=True)"
   ]
  },
  {
   "cell_type": "code",
   "execution_count": 13,
   "metadata": {
    "collapsed": true
   },
   "outputs": [
    {
     "name": "stdout",
     "output_type": "stream",
     "text": [
      "portfolio_id\n",
      "False    9366\n",
      "Name: portfolio_id, dtype: int64\n",
      "desk_id\n",
      "False    9366\n",
      "Name: desk_id, dtype: int64\n",
      "office_id\n",
      "False    9366\n",
      "Name: office_id, dtype: int64\n",
      "pf_category\n",
      "False    9366\n",
      "Name: pf_category, dtype: int64\n",
      "country_code\n",
      "False    9366\n",
      "Name: country_code, dtype: int64\n",
      "currency\n",
      "False    9366\n",
      "Name: currency, dtype: int64\n",
      "type\n",
      "False    9366\n",
      "Name: type, dtype: int64\n"
     ]
    }
   ],
   "source": [
    "for f in encoding_req:\n",
    "    print(f)\n",
    "    print(train_ps1[f].isnull().value_counts())"
   ]
  },
  {
   "cell_type": "code",
   "execution_count": 14,
   "metadata": {
    "scrolled": true
   },
   "outputs": [],
   "source": [
    "for f in encoding_req:\n",
    "    label_enc.fit(np.hstack([train_ps1[f], test_ps1[f]]))\n",
    "    train_ps1[f] = pd.DataFrame(label_enc.transform(train_ps1[f]))\n",
    "    test_ps1[f] = pd.DataFrame(label_enc.transform(test_ps1[f]))"
   ]
  },
  {
   "cell_type": "code",
   "execution_count": 90,
   "metadata": {},
   "outputs": [],
   "source": [
    "for f in encoding_req:\n",
    "    train_ps1[f] = train_ps1[f].astype(object)\n",
    "    test_ps1[f] = test_ps1[f].astype(object)"
   ]
  },
  {
   "cell_type": "code",
   "execution_count": 95,
   "metadata": {},
   "outputs": [
    {
     "data": {
      "text/plain": [
       "dtype('O')"
      ]
     },
     "execution_count": 95,
     "metadata": {},
     "output_type": "execute_result"
    }
   ],
   "source": [
    "test_ps1_demo.desk_id.dtype"
   ]
  },
  {
   "cell_type": "code",
   "execution_count": 15,
   "metadata": {},
   "outputs": [],
   "source": [
    "#separate the dates into datetime format\n",
    "train_ps1['start_date_datetime'] = train_ps1['start_date'].apply(lambda x: pd.to_datetime(str(x), format = '%Y%m%d'))\n",
    "train_ps1['creation_date_datetime'] = train_ps1['creation_date'].apply(lambda x: pd.to_datetime(str(x), format = '%Y%m%d'))\n",
    "train_ps1['sell_date_datetime'] = train_ps1['sell_date'].apply(lambda x: pd.to_datetime(str(x), format = '%Y%m%d'))\n"
   ]
  },
  {
   "cell_type": "code",
   "execution_count": 16,
   "metadata": {},
   "outputs": [],
   "source": [
    "#make the time difference table\n",
    "train_ps1['train_ps1_start_sell'] = train_ps1['sell_date_datetime']-train_ps1['start_date_datetime']\n",
    "train_ps1['train_ps1_start_creation'] = train_ps1['creation_date_datetime']-train_ps1['start_date_datetime']\n",
    "train_ps1['train_ps1_creation_sell'] = train_ps1['sell_date_datetime']-train_ps1['creation_date_datetime']\n",
    "train_ps1['train_ps1_start_sell'] = train_ps1['train_ps1_start_sell'].dt.days\n",
    "train_ps1['train_ps1_start_creation'] = train_ps1['train_ps1_start_creation'].dt.days\n",
    "train_ps1['train_ps1_creation_sell'] = train_ps1['train_ps1_creation_sell'].dt.days"
   ]
  },
  {
   "cell_type": "code",
   "execution_count": 17,
   "metadata": {},
   "outputs": [],
   "source": [
    "test_ps1['start_date_datetime'] = test_ps1['start_date'].apply(lambda x: pd.to_datetime(str(x), format = '%Y%m%d'))\n",
    "test_ps1['creation_date_datetime'] = test_ps1['creation_date'].apply(lambda x: pd.to_datetime(str(x), format = '%Y%m%d'))\n",
    "test_ps1['sell_date_datetime'] = test_ps1['sell_date'].apply(lambda x: pd.to_datetime(str(x), format = '%Y%m%d'))\n"
   ]
  },
  {
   "cell_type": "code",
   "execution_count": 18,
   "metadata": {},
   "outputs": [],
   "source": [
    "#make the time difference table\n",
    "test_ps1['train_ps1_start_sell'] = test_ps1['sell_date_datetime']-test_ps1['start_date_datetime']\n",
    "test_ps1['train_ps1_start_creation'] = test_ps1['creation_date_datetime']-test_ps1['start_date_datetime']\n",
    "test_ps1['train_ps1_creation_sell'] = test_ps1['sell_date_datetime']-test_ps1['creation_date_datetime']\n",
    "test_ps1['train_ps1_start_sell'] = test_ps1['train_ps1_start_sell'].dt.days\n",
    "test_ps1['train_ps1_start_creation'] = test_ps1['train_ps1_start_creation'].dt.days\n",
    "test_ps1['train_ps1_creation_sell'] = test_ps1['train_ps1_creation_sell'].dt.days"
   ]
  },
  {
   "cell_type": "code",
   "execution_count": 19,
   "metadata": {},
   "outputs": [],
   "source": [
    "#creating y\n",
    "y = pd.DataFrame(train_ps1['return'])"
   ]
  },
  {
   "cell_type": "code",
   "execution_count": 20,
   "metadata": {},
   "outputs": [
    {
     "data": {
      "text/plain": [
       "Index(['portfolio_id', 'desk_id', 'office_id', 'pf_category', 'start_date',\n",
       "       'sold', 'country_code', 'euribor_rate', 'currency', 'libor_rate',\n",
       "       'bought', 'creation_date', 'indicator_code', 'sell_date', 'type',\n",
       "       'hedge_value', 'status', 'return', 'balance', 'start_date_datetime',\n",
       "       'creation_date_datetime', 'sell_date_datetime', 'train_ps1_start_sell',\n",
       "       'train_ps1_start_creation', 'train_ps1_creation_sell'],\n",
       "      dtype='object')"
      ]
     },
     "execution_count": 20,
     "metadata": {},
     "output_type": "execute_result"
    }
   ],
   "source": [
    "features = train_ps1.columns\n",
    "features"
   ]
  },
  {
   "cell_type": "code",
   "execution_count": 69,
   "metadata": {},
   "outputs": [],
   "source": [
    "#min_max scale\n",
    "from sklearn.preprocessing import MinMaxScaler\n",
    "min_max = MinMaxScaler()"
   ]
  },
  {
   "cell_type": "code",
   "execution_count": 72,
   "metadata": {},
   "outputs": [],
   "source": [
    "train_ps1['balance_minmax'] = min_max.fit_transform(train_ps1[['balance']])\n",
    "test_ps1['balance_minmax'] = min_max.fit_transform(test_ps1[['balance']])"
   ]
  },
  {
   "cell_type": "code",
   "execution_count": 37,
   "metadata": {},
   "outputs": [
    {
     "data": {
      "text/plain": [
       "['office_id',\n",
       " 'pf_category',\n",
       " 'country_code',\n",
       " 'euribor_rate',\n",
       " 'currency',\n",
       " 'libor_rate',\n",
       " 'indicator_code',\n",
       " 'type',\n",
       " 'hedge_value',\n",
       " 'status',\n",
       " 'train_ps1_start_sell',\n",
       " 'train_ps1_start_creation',\n",
       " 'train_ps1_creation_sell',\n",
       " 'start_date',\n",
       " 'creation_date',\n",
       " 'sell_date',\n",
       " 'balance']"
      ]
     },
     "execution_count": 37,
     "metadata": {},
     "output_type": "execute_result"
    }
   ],
   "source": [
    "#selected features\n",
    "feat = [ 'office_id', 'pf_category',\n",
    "               'country_code', 'euribor_rate', 'currency', 'libor_rate',\n",
    "                'indicator_code','type','hedge_value', 'status','train_ps1_start_sell',\n",
    "               'train_ps1_start_creation', 'train_ps1_creation_sell','start_date','creation_date','sell_date',\n",
    "        'balance']\n",
    "feat"
   ]
  },
  {
   "cell_type": "code",
   "execution_count": 38,
   "metadata": {},
   "outputs": [],
   "source": [
    "#applying rf regressor\n",
    "from sklearn.ensemble import RandomForestRegressor\n",
    "rf = RandomForestRegressor(random_state=0)"
   ]
  },
  {
   "cell_type": "code",
   "execution_count": 26,
   "metadata": {
    "scrolled": true
   },
   "outputs": [
    {
     "name": "stdout",
     "output_type": "stream",
     "text": [
      "desk_id\n",
      "int64\n",
      "int64\n",
      "office_id\n",
      "int64\n",
      "int64\n",
      "pf_category\n",
      "int64\n",
      "int64\n",
      "country_code\n",
      "int64\n",
      "int64\n",
      "euribor_rate\n",
      "float64\n",
      "float64\n",
      "currency\n",
      "int64\n",
      "int64\n",
      "libor_rate\n",
      "float64\n",
      "float64\n",
      "indicator_code\n",
      "bool\n",
      "bool\n",
      "type\n",
      "int64\n",
      "int64\n",
      "hedge_value\n",
      "bool\n",
      "bool\n",
      "status\n",
      "bool\n",
      "bool\n",
      "train_ps1_start_sell\n",
      "int64\n",
      "int64\n",
      "train_ps1_start_creation\n",
      "int64\n",
      "int64\n",
      "train_ps1_creation_sell\n",
      "int64\n",
      "int64\n",
      "start_date\n",
      "int64\n",
      "int64\n",
      "creation_date\n",
      "int64\n",
      "int64\n",
      "sell_date\n",
      "int64\n",
      "int64\n",
      "balance\n",
      "float64\n",
      "float64\n"
     ]
    }
   ],
   "source": [
    "for f in feat:\n",
    "    print(f)\n",
    "    print(train_ps1[f].dtype)\n",
    "    print(test_ps1[f].dtype)\n",
    "    "
   ]
  },
  {
   "cell_type": "code",
   "execution_count": 39,
   "metadata": {},
   "outputs": [
    {
     "name": "stderr",
     "output_type": "stream",
     "text": [
      "/usr/local/lib/python3.4/dist-packages/ipykernel_launcher.py:1: DataConversionWarning: A column-vector y was passed when a 1d array was expected. Please change the shape of y to (n_samples,), for example using ravel().\n",
      "  \"\"\"Entry point for launching an IPython kernel.\n"
     ]
    },
    {
     "data": {
      "text/plain": [
       "RandomForestRegressor(bootstrap=True, criterion='mse', max_depth=None,\n",
       "           max_features='auto', max_leaf_nodes=None,\n",
       "           min_impurity_decrease=0.0, min_impurity_split=None,\n",
       "           min_samples_leaf=1, min_samples_split=2,\n",
       "           min_weight_fraction_leaf=0.0, n_estimators=10, n_jobs=1,\n",
       "           oob_score=False, random_state=0, verbose=0, warm_start=False)"
      ]
     },
     "execution_count": 39,
     "metadata": {},
     "output_type": "execute_result"
    }
   ],
   "source": [
    "rf.fit(train_ps1[feat],y)"
   ]
  },
  {
   "cell_type": "code",
   "execution_count": 92,
   "metadata": {},
   "outputs": [],
   "source": [
    "#test_ps1.indicator_code = test_ps1.indicator_code.replace(\"null\", False)\n",
    "#test_ps1.hedge_value.fillna(False, inplace = True)\n",
    "#test_ps1.status.fillna(False, inplace = True)\n"
   ]
  },
  {
   "cell_type": "code",
   "execution_count": 28,
   "metadata": {
    "collapsed": true
   },
   "outputs": [
    {
     "name": "stdout",
     "output_type": "stream",
     "text": [
      "desk_id\n",
      "False    4801\n",
      "Name: desk_id, dtype: int64\n",
      "office_id\n",
      "False    4801\n",
      "Name: office_id, dtype: int64\n",
      "pf_category\n",
      "False    4801\n",
      "Name: pf_category, dtype: int64\n",
      "country_code\n",
      "False    4801\n",
      "Name: country_code, dtype: int64\n",
      "euribor_rate\n",
      "False    4801\n",
      "Name: euribor_rate, dtype: int64\n",
      "currency\n",
      "False    4801\n",
      "Name: currency, dtype: int64\n",
      "libor_rate\n",
      "False    4801\n",
      "Name: libor_rate, dtype: int64\n",
      "indicator_code\n",
      "False    4801\n",
      "Name: indicator_code, dtype: int64\n",
      "type\n",
      "False    4801\n",
      "Name: type, dtype: int64\n",
      "hedge_value\n",
      "False    4801\n",
      "Name: hedge_value, dtype: int64\n",
      "status\n",
      "False    4801\n",
      "Name: status, dtype: int64\n",
      "train_ps1_start_sell\n",
      "False    4801\n",
      "Name: train_ps1_start_sell, dtype: int64\n",
      "train_ps1_start_creation\n",
      "False    4801\n",
      "Name: train_ps1_start_creation, dtype: int64\n",
      "train_ps1_creation_sell\n",
      "False    4801\n",
      "Name: train_ps1_creation_sell, dtype: int64\n",
      "start_date\n",
      "False    4801\n",
      "Name: start_date, dtype: int64\n",
      "creation_date\n",
      "False    4801\n",
      "Name: creation_date, dtype: int64\n",
      "sell_date\n",
      "False    4801\n",
      "Name: sell_date, dtype: int64\n",
      "balance\n",
      "False    4801\n",
      "Name: balance, dtype: int64\n"
     ]
    }
   ],
   "source": [
    "for f in feat:\n",
    "    print(f)\n",
    "    print(test_ps1[f].isnull().value_counts())"
   ]
  },
  {
   "cell_type": "code",
   "execution_count": 40,
   "metadata": {},
   "outputs": [
    {
     "data": {
      "text/plain": [
       "array([ 0.025247  ,  0.02849   ,  0.0252599 , ...,  0.00616756,\n",
       "        0.00554235,  0.00591998])"
      ]
     },
     "execution_count": 40,
     "metadata": {},
     "output_type": "execute_result"
    }
   ],
   "source": [
    "#prediction\n",
    "prediction = rf.predict(test_ps1[feat])\n",
    "prediction"
   ]
  },
  {
   "cell_type": "code",
   "execution_count": 30,
   "metadata": {},
   "outputs": [],
   "source": [
    "test_ps1_demo = pd.read_csv(\"test.csv\")"
   ]
  },
  {
   "cell_type": "code",
   "execution_count": 41,
   "metadata": {},
   "outputs": [],
   "source": [
    "submissions = pd.DataFrame({'portfolio_id':test_ps1_demo.portfolio_id, 'return':prediction})"
   ]
  },
  {
   "cell_type": "code",
   "execution_count": 42,
   "metadata": {},
   "outputs": [],
   "source": [
    "submissions.to_csv('results_rf_last2.csv',index=False)"
   ]
  },
  {
   "cell_type": "markdown",
   "metadata": {},
   "source": [
    "The above solution gave a accuracy of 58%\n",
    "shitty performance"
   ]
  },
  {
   "cell_type": "code",
   "execution_count": 33,
   "metadata": {},
   "outputs": [
    {
     "data": {
      "text/plain": [
       "18"
      ]
     },
     "execution_count": 33,
     "metadata": {},
     "output_type": "execute_result"
    }
   ],
   "source": [
    "train_ps1[feat].shape[1]"
   ]
  },
  {
   "cell_type": "code",
   "execution_count": 43,
   "metadata": {},
   "outputs": [
    {
     "data": {
      "image/png": "[encoded data removed]",
      "text/plain": [
       "<matplotlib.figure.Figure at 0x7f2d7dd539b0>"
      ]
     },
     "metadata": {},
     "output_type": "display_data"
    }
   ],
   "source": [
    "#making variable importance\n",
    "importance = rf.feature_importances_\n",
    "indices = np.argsort(importance)[::-1]\n",
    "names = [train_ps1[feat].columns[i] for i in indices]\n",
    "plt.figure()\n",
    "plt.title('Feature importance')\n",
    "plt.bar(range(train_ps1[feat].shape[1]),importance[indices])\n",
    "plt.xticks(range(train_ps1[feat].shape[1]), names,rotation = 90)\n",
    "plt.show()\n"
   ]
  },
  {
   "cell_type": "code",
   "execution_count": 49,
   "metadata": {},
   "outputs": [
    {
     "data": {
      "text/plain": [
       "['country_code',\n",
       " 'currency',\n",
       " 'libor_rate',\n",
       " 'type',\n",
       " 'train_ps1_creation_sell',\n",
       " 'start_date',\n",
       " 'creation_date',\n",
       " 'sell_date']"
      ]
     },
     "execution_count": 49,
     "metadata": {},
     "output_type": "execute_result"
    }
   ],
   "source": [
    "corr_matrix = train_ps1[feat].corr().abs()\n",
    "upper = corr_matrix.where(np.triu(np.ones(corr_matrix.shape), k=1).astype(np.bool))\n",
    "to_drop = [column for column in upper.columns if any(upper[column] > 0.75)]\n",
    "to_drop"
   ]
  },
  {
   "cell_type": "code",
   "execution_count": 50,
   "metadata": {},
   "outputs": [],
   "source": [
    "feat_corr_filter = [ 'office_id', 'pf_category',\n",
    "                'euribor_rate', 'currency',\n",
    "                'indicator_code','hedge_value', 'status','train_ps1_start_sell',\n",
    "               'train_ps1_start_creation',\n",
    "        'balance']"
   ]
  },
  {
   "cell_type": "code",
   "execution_count": 51,
   "metadata": {},
   "outputs": [
    {
     "name": "stderr",
     "output_type": "stream",
     "text": [
      "/usr/local/lib/python3.4/dist-packages/ipykernel_launcher.py:2: DataConversionWarning: A column-vector y was passed when a 1d array was expected. Please change the shape of y to (n_samples,), for example using ravel().\n",
      "  \n"
     ]
    },
    {
     "data": {
      "text/plain": [
       "RandomForestRegressor(bootstrap=True, criterion='mse', max_depth=None,\n",
       "           max_features='auto', max_leaf_nodes=None,\n",
       "           min_impurity_decrease=0.0, min_impurity_split=None,\n",
       "           min_samples_leaf=1, min_samples_split=2,\n",
       "           min_weight_fraction_leaf=0.0, n_estimators=10, n_jobs=1,\n",
       "           oob_score=False, random_state=0, verbose=0, warm_start=False)"
      ]
     },
     "execution_count": 51,
     "metadata": {},
     "output_type": "execute_result"
    }
   ],
   "source": [
    "rf_corr_filter = RandomForestRegressor(random_state=0)\n",
    "rf_corr_filter.fit(train_ps1[feat_corr_filter],y)"
   ]
  },
  {
   "cell_type": "code",
   "execution_count": 52,
   "metadata": {},
   "outputs": [],
   "source": [
    "prediction = rf_corr_filter.predict(test_ps1[feat_corr_filter])\n",
    "submissions = pd.DataFrame({'portfolio_id':test_ps1_demo.portfolio_id, 'return':prediction})\n",
    "submissions.to_csv('results_rf_last_corr.csv', index=False)"
   ]
  },
  {
   "cell_type": "code",
   "execution_count": 140,
   "metadata": {},
   "outputs": [],
   "source": [
    "#now we will proccede with the rf variable selection\n",
    "from sklearn.feature_selection import SelectFromModel\n"
   ]
  },
  {
   "cell_type": "code",
   "execution_count": 141,
   "metadata": {
    "collapsed": true
   },
   "outputs": [
    {
     "name": "stdout",
     "output_type": "stream",
     "text": [
      "('portfolio_id', 0.08347598898237002)\n",
      "('desk_id', 0.079735729010081066)\n",
      "('office_id', 5.0902375524247801e-05)\n",
      "('pf_category', 0.0067339026474971756)\n",
      "('country_code', 0.028027657659616838)\n",
      "('euribor_rate', 0.0676626192681518)\n",
      "('currency', 0.0061900957847403548)\n",
      "('libor_rate', 0.22568873076234444)\n",
      "('indicator_code', 1.6243763522028494e-06)\n",
      "('type', 0.016077429984358408)\n",
      "('hedge_value', 3.1353160405950089e-06)\n",
      "('status', 0.41388805691297587)\n",
      "('train_ps1_start_sell', 0.0063943404389999615)\n",
      "('train_ps1_start_creation', 0.00025479984212948279)\n",
      "('train_ps1_creation_sell', 0.0050954583978705939)\n",
      "('balance', 0.060719528240946952)\n"
     ]
    }
   ],
   "source": [
    "for f in zip(feat, rf.feature_importances_):\n",
    "    print(f)"
   ]
  },
  {
   "cell_type": "code",
   "execution_count": 151,
   "metadata": {
    "collapsed": true
   },
   "outputs": [
    {
     "name": "stderr",
     "output_type": "stream",
     "text": [
      "/usr/local/lib/python3.4/dist-packages/sklearn/feature_selection/from_model.py:169: DataConversionWarning: A column-vector y was passed when a 1d array was expected. Please change the shape of y to (n_samples,), for example using ravel().\n",
      "  self.estimator_.fit(X, y, **fit_params)\n"
     ]
    },
    {
     "data": {
      "text/plain": [
       "SelectFromModel(estimator=RandomForestRegressor(bootstrap=True, criterion='mse', max_depth=None,\n",
       "           max_features='auto', max_leaf_nodes=None,\n",
       "           min_impurity_decrease=0.0, min_impurity_split=None,\n",
       "           min_samples_leaf=1, min_samples_split=2,\n",
       "           min_weight_fraction_leaf=0.0, n_estimators=10, n_jobs=1,\n",
       "           oob_score=False, random_state=0, verbose=0, warm_start=False),\n",
       "        norm_order=1, prefit=False, threshold=0.01)"
      ]
     },
     "execution_count": 151,
     "metadata": {},
     "output_type": "execute_result"
    }
   ],
   "source": [
    "#put a threshold in the importances of\n",
    "sfm = SelectFromModel(rf, threshold=0.01)\n",
    "sfm.fit(train_ps1[feat],y)"
   ]
  },
  {
   "cell_type": "code",
   "execution_count": 152,
   "metadata": {
    "collapsed": true
   },
   "outputs": [
    {
     "name": "stdout",
     "output_type": "stream",
     "text": [
      "portfolio_id\n",
      "desk_id\n",
      "country_code\n",
      "euribor_rate\n",
      "libor_rate\n",
      "type\n",
      "status\n",
      "balance\n"
     ]
    }
   ],
   "source": [
    "for i in sfm.get_support(indices=True):\n",
    "    print(feat[i])"
   ]
  },
  {
   "cell_type": "code",
   "execution_count": 153,
   "metadata": {},
   "outputs": [],
   "source": [
    "sfm_train = sfm.transform(train_ps1[feat])\n",
    "sfm_test = sfm.transform(test_ps1[feat])"
   ]
  },
  {
   "cell_type": "code",
   "execution_count": 154,
   "metadata": {},
   "outputs": [
    {
     "name": "stderr",
     "output_type": "stream",
     "text": [
      "/usr/local/lib/python3.4/dist-packages/ipykernel_launcher.py:2: DataConversionWarning: A column-vector y was passed when a 1d array was expected. Please change the shape of y to (n_samples,), for example using ravel().\n",
      "  \n"
     ]
    },
    {
     "data": {
      "text/plain": [
       "RandomForestRegressor(bootstrap=True, criterion='mse', max_depth=None,\n",
       "           max_features='auto', max_leaf_nodes=None,\n",
       "           min_impurity_decrease=0.0, min_impurity_split=None,\n",
       "           min_samples_leaf=1, min_samples_split=2,\n",
       "           min_weight_fraction_leaf=0.0, n_estimators=10, n_jobs=1,\n",
       "           oob_score=False, random_state=0, verbose=0, warm_start=False)"
      ]
     },
     "execution_count": 154,
     "metadata": {},
     "output_type": "execute_result"
    }
   ],
   "source": [
    "rf_imp = RandomForestRegressor(random_state=0)\n",
    "rf_imp.fit(sfm_train,y)"
   ]
  },
  {
   "cell_type": "code",
   "execution_count": 155,
   "metadata": {},
   "outputs": [],
   "source": [
    "prediction = rf_imp.predict(sfm_test)\n",
    "submissions = pd.DataFrame({'portfolio_id':test_ps1_demo.portfolio_id, 'return':prediction})\n",
    "submissions.to_csv('results_rf_imp.csv', index=False)"
   ]
  },
  {
   "cell_type": "markdown",
   "metadata": {},
   "source": [
    "The above rf imp model performed very poor\n",
    "Thus its better to consider the collinear model\n"
   ]
  },
  {
   "cell_type": "code",
   "execution_count": 53,
   "metadata": {},
   "outputs": [
    {
     "name": "stderr",
     "output_type": "stream",
     "text": [
      "/usr/local/lib/python3.4/dist-packages/sklearn/cross_validation.py:41: DeprecationWarning: This module was deprecated in version 0.18 in favor of the model_selection module into which all the refactored classes and functions are moved. Also note that the interface of the new CV iterators are different from that of this module. This module will be removed in 0.20.\n",
      "  \"This module will be removed in 0.20.\", DeprecationWarning)\n"
     ]
    }
   ],
   "source": [
    "#using gbmlight\n",
    "import lightgbm as gbm\n",
    "import xgboost as xgb"
   ]
  },
  {
   "cell_type": "code",
   "execution_count": 54,
   "metadata": {},
   "outputs": [],
   "source": [
    "params = {\n",
    "    'task': 'train',\n",
    "    #'boosting_type': 'gbdt',\n",
    "    'objective': 'regression',\n",
    "    #'metric': {'l2', 'auc'},\n",
    "    #'num_leaves': 31,\n",
    "    #'learning_rate': 0.05,\n",
    "    #'feature_fraction': 0.9,\n",
    "    #'bagging_fraction': 0.8,\n",
    "    #'bagging_freq': 5,\n",
    "    #'verbose': 0\n",
    "}"
   ]
  },
  {
   "cell_type": "code",
   "execution_count": 58,
   "metadata": {},
   "outputs": [],
   "source": [
    "y = train_ps1['return'].values"
   ]
  },
  {
   "cell_type": "code",
   "execution_count": 59,
   "metadata": {},
   "outputs": [],
   "source": [
    "gbm_train = gbm.Dataset(train_ps1[feat_corr_filter],y)"
   ]
  },
  {
   "cell_type": "code",
   "execution_count": 60,
   "metadata": {},
   "outputs": [],
   "source": [
    "gbm_model = gbm.train(params,gbm_train)"
   ]
  },
  {
   "cell_type": "code",
   "execution_count": 63,
   "metadata": {},
   "outputs": [
    {
     "data": {
      "text/plain": [
       "array([ 0.04346423,  0.04048141,  0.04346423, ...,  0.03620811,\n",
       "        0.00269733,  0.00269733])"
      ]
     },
     "execution_count": 63,
     "metadata": {},
     "output_type": "execute_result"
    }
   ],
   "source": [
    "prediction = gbm_model.predict(test_ps1[feat])\n",
    "prediction"
   ]
  },
  {
   "cell_type": "code",
   "execution_count": 64,
   "metadata": {},
   "outputs": [],
   "source": [
    "submissions = pd.DataFrame({'portfolio_id':test_ps1_demo.portfolio_id, 'return':prediction})\n",
    "submissions.to_csv('results_lightgbm_last.csv', index=False)"
   ]
  },
  {
   "cell_type": "code",
   "execution_count": 58,
   "metadata": {},
   "outputs": [
    {
     "data": {
      "text/plain": [
       "array([ 0.02496,  0.05496,  0.02496, ...,  0.006  ,  0.006  ,  0.006  ])"
      ]
     },
     "execution_count": 58,
     "metadata": {},
     "output_type": "execute_result"
    }
   ],
   "source": [
    "y = train_ps1['return'].values\n",
    "y\n"
   ]
  },
  {
   "cell_type": "code",
   "execution_count": 64,
   "metadata": {},
   "outputs": [],
   "source": [
    "#using xgb\n",
    "xgb_model = xgb.XGBRegressor().fit(train_ps1[feat],y)"
   ]
  },
  {
   "cell_type": "code",
   "execution_count": 65,
   "metadata": {},
   "outputs": [],
   "source": [
    "prediction = xgb_model.predict(test_ps1[feat])"
   ]
  },
  {
   "cell_type": "code",
   "execution_count": 66,
   "metadata": {},
   "outputs": [],
   "source": [
    "submissions = pd.DataFrame({'portfolio_id':test_ps1_demo.portfolio_id, 'return':prediction})\n",
    "submissions.to_csv('results_xgbboost.csv', index=False)"
   ]
  },
  {
   "cell_type": "markdown",
   "metadata": {},
   "source": [
    "performing the gradient boosting tuning\n"
   ]
  },
  {
   "cell_type": "code",
   "execution_count": 118,
   "metadata": {},
   "outputs": [],
   "source": [
    "from sklearn.ensemble import GradientBoostingRegressor\n",
    "from sklearn import cross_validation, metrics\n",
    "from sklearn.grid_search import GridSearchCV"
   ]
  },
  {
   "cell_type": "code",
   "execution_count": 119,
   "metadata": {},
   "outputs": [],
   "source": [
    "#defing the function to evaluate the models\n",
    "def model_fit(algo, train_data, predictors, performCV=True, printfeatimp = True, cv_folds =5):\n",
    "    #fit the algorithm with data\n",
    "    algo.fit(train_data[predictors], train_data['return'])\n",
    "    \n",
    "    #preditions\n",
    "    train_data_predictions = algo.predict(train_data[predictors])\n",
    "    #algo.predict_proba(train_data[predictors])   -- for classifaction jobs\n",
    "    \n",
    "    #performing cv\n",
    "    if(performCV):\n",
    "        cv_score = cross_validation.cross_val_score(algo,train_data[predictors], train_data['return'],cv = cv_folds,scoring='r2')\n",
    "                                                   \n",
    "        \n",
    "    #printing the models result\n",
    "    print(\"/n mOdel rePort\")\n",
    "    #print(\"Accuracy : %.4g\"%metrics.accuracy_score(train_data[predictors].values, train_data_predictions))\n",
    "    print(\"R2 score %f\"%metrics.r2_score(train_data['return'], train_data_predictions))\n",
    "    \n",
    "    if(performCV):\n",
    "        print(\"CV score : mean %.7g | std %.7g | min %.7g | max %.7g | \"%(np.mean(cv_score),np.std(cv_score),np.min(cv_score), np.max(cv_score)))\n",
    "                                                                         \n",
    "        \n",
    "    if(printfeatimp):\n",
    "        feat_importance = pd.Series(algo.feature_importances_, predictors).sort_values(ascending=False)\n",
    "        feat_importance.plot(kind=\"bar\", title = \"faeture importance\")\n",
    "        plt.ylabel('feature importance score')\n",
    "    "
   ]
  },
  {
   "cell_type": "code",
   "execution_count": null,
   "metadata": {},
   "outputs": [],
   "source": [
    "#function for cv \n",
    "def cv_validation_lgb(dataset, param, cv_folds=5):\n",
    "    lgb_model=lgb.train(dataset,param)\n",
    "    lgb_predict_train =lgb_model.predict(train_ps1[feat])\n",
    "    \n",
    "    #performing cv\n",
    "    "
   ]
  },
  {
   "cell_type": "code",
   "execution_count": 121,
   "metadata": {},
   "outputs": [],
   "source": [
    "#base model for lighgbm\n",
    "import lightgbm as lgb"
   ]
  },
  {
   "cell_type": "code",
   "execution_count": 135,
   "metadata": {},
   "outputs": [],
   "source": [
    "param={\n",
    "    'task':'train',\n",
    "    'objective':'regression'  \n",
    "}\n",
    "lgbtrain = lgb.Dataset(train_ps1[feat],y)"
   ]
  },
  {
   "cell_type": "code",
   "execution_count": 134,
   "metadata": {},
   "outputs": [],
   "source": [
    "y = train_ps1['return'].values"
   ]
  },
  {
   "cell_type": "code",
   "execution_count": 136,
   "metadata": {
    "scrolled": true
   },
   "outputs": [],
   "source": [
    "lgb0 = lgb.train(param,lgbtrain)"
   ]
  },
  {
   "cell_type": "code",
   "execution_count": 61,
   "metadata": {},
   "outputs": [
    {
     "name": "stdout",
     "output_type": "stream",
     "text": [
      "/n mOdel rePort\n",
      "R2 score 0.917451\n",
      "CV score : mean 0.4519002 | std 0.6073815 | min -0.674125 | max 0.9522262 | \n"
     ]
    },
    {
     "data": {
      "image/png": "[encoded data removed]",
      "text/plain": [
       "<matplotlib.figure.Figure at 0x7f7bd339c5c0>"
      ]
     },
     "metadata": {},
     "output_type": "display_data"
    }
   ],
   "source": [
    "#base model\n",
    "gbm0 = GradientBoostingRegressor(random_state=10)\n",
    "model_fit(gbm0,train_ps1, feat_corr_filter)"
   ]
  },
  {
   "cell_type": "code",
   "execution_count": 64,
   "metadata": {},
   "outputs": [
    {
     "data": {
      "text/plain": [
       "GridSearchCV(cv=5, error_score='raise',\n",
       "       estimator=GradientBoostingRegressor(alpha=0.9, criterion='friedman_mse', init=None,\n",
       "             learning_rate=0.15, loss='ls', max_depth=9,\n",
       "             max_features='sqrt', max_leaf_nodes=None,\n",
       "             min_impurity_decrease=0.0, min_impurity_split=None,\n",
       "             min_samples_leaf=50, min_samples_split=400,\n",
       "             min_weight_fraction_leaf=0.0, n_estimators=100,\n",
       "             presort='auto', random_state=10, subsample=0.8, verbose=0,\n",
       "             warm_start=False),\n",
       "       fit_params={}, iid=False, n_jobs=4,\n",
       "       param_grid={'n_estimators': (20, 30, 40, 50, 60, 70, 80, 90, 100)},\n",
       "       pre_dispatch='2*n_jobs', refit=True, scoring='r2', verbose=0)"
      ]
     },
     "execution_count": 64,
     "metadata": {},
     "output_type": "execute_result"
    }
   ],
   "source": [
    "#using grid search to find the optimal no. of learnign rate\n",
    "param_test1 = {'n_estimators':(20,30,40,50,60,70,80,90,100)}\n",
    "gsearch1 = GridSearchCV(estimator=GradientBoostingRegressor(learning_rate=0.15, min_samples_split=400, min_samples_leaf=50, max_depth=9, max_features='sqrt',subsample=0.8, random_state=10),\n",
    "                       param_grid=param_test1, scoring = 'r2', n_jobs=4,iid=False,cv=5)\n",
    "gsearch1.fit(train_ps1[feat_corr_filter], train_ps1['return'])"
   ]
  },
  {
   "cell_type": "code",
   "execution_count": 65,
   "metadata": {},
   "outputs": [
    {
     "data": {
      "text/plain": [
       "([mean: 0.42316, std: 0.50918, params: {'n_estimators': 20},\n",
       "  mean: 0.42619, std: 0.54103, params: {'n_estimators': 30},\n",
       "  mean: 0.42920, std: 0.56380, params: {'n_estimators': 40},\n",
       "  mean: 0.42348, std: 0.58061, params: {'n_estimators': 50},\n",
       "  mean: 0.43075, std: 0.58729, params: {'n_estimators': 60},\n",
       "  mean: 0.43315, std: 0.59365, params: {'n_estimators': 70},\n",
       "  mean: 0.43135, std: 0.60081, params: {'n_estimators': 80},\n",
       "  mean: 0.43613, std: 0.60255, params: {'n_estimators': 90},\n",
       "  mean: 0.43475, std: 0.60654, params: {'n_estimators': 100}],\n",
       " {'n_estimators': 90},\n",
       " 0.4361322182644116)"
      ]
     },
     "execution_count": 65,
     "metadata": {},
     "output_type": "execute_result"
    }
   ],
   "source": [
    "gsearch1.grid_scores_, gsearch1.best_params_, gsearch1.best_score_"
   ]
  },
  {
   "cell_type": "code",
   "execution_count": 66,
   "metadata": {
    "collapsed": true
   },
   "outputs": [
    {
     "data": {
      "text/plain": [
       "([mean: 0.43042, std: 0.63733, params: {'max_depth': 5, 'min_samples_split': 200},\n",
       "  mean: 0.42627, std: 0.65238, params: {'max_depth': 5, 'min_samples_split': 400},\n",
       "  mean: 0.42983, std: 0.61779, params: {'max_depth': 5, 'min_samples_split': 600},\n",
       "  mean: 0.41824, std: 0.60606, params: {'max_depth': 5, 'min_samples_split': 800},\n",
       "  mean: 0.37743, std: 0.72496, params: {'max_depth': 7, 'min_samples_split': 200},\n",
       "  mean: 0.45652, std: 0.59596, params: {'max_depth': 7, 'min_samples_split': 400},\n",
       "  mean: 0.46904, std: 0.59270, params: {'max_depth': 7, 'min_samples_split': 600},\n",
       "  mean: 0.44806, std: 0.59107, params: {'max_depth': 7, 'min_samples_split': 800},\n",
       "  mean: 0.38190, std: 0.70823, params: {'max_depth': 9, 'min_samples_split': 200},\n",
       "  mean: 0.44840, std: 0.62540, params: {'max_depth': 9, 'min_samples_split': 400},\n",
       "  mean: 0.47110, std: 0.55585, params: {'max_depth': 9, 'min_samples_split': 600},\n",
       "  mean: 0.46649, std: 0.61329, params: {'max_depth': 9, 'min_samples_split': 800},\n",
       "  mean: 0.46617, std: 0.58474, params: {'max_depth': 11, 'min_samples_split': 200},\n",
       "  mean: 0.46357, std: 0.58113, params: {'max_depth': 11, 'min_samples_split': 400},\n",
       "  mean: 0.44110, std: 0.59658, params: {'max_depth': 11, 'min_samples_split': 600},\n",
       "  mean: 0.45934, std: 0.61115, params: {'max_depth': 11, 'min_samples_split': 800},\n",
       "  mean: 0.42653, std: 0.67817, params: {'max_depth': 13, 'min_samples_split': 200},\n",
       "  mean: 0.44674, std: 0.62375, params: {'max_depth': 13, 'min_samples_split': 400},\n",
       "  mean: 0.42800, std: 0.65515, params: {'max_depth': 13, 'min_samples_split': 600},\n",
       "  mean: 0.44424, std: 0.64672, params: {'max_depth': 13, 'min_samples_split': 800},\n",
       "  mean: 0.42883, std: 0.67272, params: {'max_depth': 15, 'min_samples_split': 200},\n",
       "  mean: 0.43803, std: 0.62238, params: {'max_depth': 15, 'min_samples_split': 400},\n",
       "  mean: 0.45477, std: 0.61215, params: {'max_depth': 15, 'min_samples_split': 600},\n",
       "  mean: 0.45579, std: 0.65146, params: {'max_depth': 15, 'min_samples_split': 800}],\n",
       " {'max_depth': 9, 'min_samples_split': 600},\n",
       " 0.47109955965090683)"
      ]
     },
     "execution_count": 66,
     "metadata": {},
     "output_type": "execute_result"
    }
   ],
   "source": [
    "#parametere testing 2\n",
    "param_test2 = {'max_depth':np.arange(5,16,2,dtype=int),'min_samples_split':np.arange(200,1000,200,dtype=int)}\n",
    "gsearch2 = GridSearchCV(estimator=GradientBoostingRegressor(learning_rate=0.15, n_estimators=90, \n",
    "                                                            max_features='sqrt',subsample=0.8, random_state=10),\n",
    "                       param_grid=param_test2, scoring = 'r2', n_jobs=4,iid=False,cv=5)\n",
    "gsearch2.fit(train_ps1[feat_corr_filter], train_ps1['return'])\n",
    "gsearch2.grid_scores_, gsearch2.best_params_, gsearch2.best_score_"
   ]
  },
  {
   "cell_type": "code",
   "execution_count": 69,
   "metadata": {},
   "outputs": [
    {
     "data": {
      "text/plain": [
       "([mean: 0.44456, std: 0.60133, params: {'min_samples_leaf': 5},\n",
       "  mean: 0.46604, std: 0.60141, params: {'min_samples_leaf': 10},\n",
       "  mean: 0.44957, std: 0.62261, params: {'min_samples_leaf': 15},\n",
       "  mean: 0.44915, std: 0.62965, params: {'min_samples_leaf': 20},\n",
       "  mean: 0.44830, std: 0.62491, params: {'min_samples_leaf': 25},\n",
       "  mean: 0.44528, std: 0.62196, params: {'min_samples_leaf': 30},\n",
       "  mean: 0.43687, std: 0.63911, params: {'min_samples_leaf': 35},\n",
       "  mean: 0.43820, std: 0.62305, params: {'min_samples_leaf': 40},\n",
       "  mean: 0.44085, std: 0.61592, params: {'min_samples_leaf': 45},\n",
       "  mean: 0.42784, std: 0.61562, params: {'min_samples_leaf': 50},\n",
       "  mean: 0.42478, std: 0.61453, params: {'min_samples_leaf': 55},\n",
       "  mean: 0.43286, std: 0.60942, params: {'min_samples_leaf': 60},\n",
       "  mean: 0.42597, std: 0.61800, params: {'min_samples_leaf': 65},\n",
       "  mean: 0.43376, std: 0.59583, params: {'min_samples_leaf': 70}],\n",
       " {'min_samples_leaf': 10},\n",
       " 0.46603684780288557)"
      ]
     },
     "execution_count": 69,
     "metadata": {},
     "output_type": "execute_result"
    }
   ],
   "source": [
    "param_test3 = {'min_samples_leaf':np.arange(5,71,5)}\n",
    "gsearch3 = GridSearchCV(estimator=GradientBoostingRegressor(learning_rate=0.15, n_estimators=90,max_depth=9, \n",
    "                                                            min_samples_split=600, \n",
    "                                                            max_features='sqrt',subsample=0.8, random_state=10),\n",
    "                       param_grid=param_test3, scoring = 'r2', n_jobs=4,iid=False,cv=5)\n",
    "gsearch3.fit(train_ps1[feat_corr_filter], train_ps1['return'])\n",
    "gsearch3.grid_scores_, gsearch3.best_params_, gsearch3.best_score_"
   ]
  },
  {
   "cell_type": "code",
   "execution_count": 45,
   "metadata": {},
   "outputs": [
    {
     "name": "stdout",
     "output_type": "stream",
     "text": [
      "/n mOdel rePort\n",
      "R2 score 0.832847\n",
      "CV score : mean 0.5016404 | std 0.5655519 | min -0.5452555 | max 0.9645974 | \n"
     ]
    },
    {
     "data": {
      "image/png": "[encoded data removed]",
      "text/plain": [
       "<matplotlib.figure.Figure at 0x7f7bd3726e10>"
      ]
     },
     "metadata": {},
     "output_type": "display_data"
    }
   ],
   "source": [
    "model_fit(gsearch3.best_estimator_,train_ps1, feat)"
   ]
  },
  {
   "cell_type": "code",
   "execution_count": 71,
   "metadata": {},
   "outputs": [
    {
     "data": {
      "text/plain": [
       "([mean: 0.52564, std: 0.53786, params: {'max_features': 3},\n",
       "  mean: 0.51474, std: 0.56432, params: {'max_features': 4},\n",
       "  mean: 0.50798, std: 0.57676, params: {'max_features': 5},\n",
       "  mean: 0.49689, std: 0.61321, params: {'max_features': 6},\n",
       "  mean: 0.49677, std: 0.61766, params: {'max_features': 7},\n",
       "  mean: 0.49755, std: 0.61291, params: {'max_features': 8},\n",
       "  mean: 0.47946, std: 0.62115, params: {'max_features': 9},\n",
       "  mean: 0.48267, std: 0.62053, params: {'max_features': 10},\n",
       "  mean: 0.47942, std: 0.61961, params: {'max_features': 11},\n",
       "  mean: 0.47877, std: 0.62065, params: {'max_features': 12},\n",
       "  mean: 0.47583, std: 0.62330, params: {'max_features': 13},\n",
       "  mean: 0.47596, std: 0.61710, params: {'max_features': 14},\n",
       "  mean: 0.47011, std: 0.62515, params: {'max_features': 15},\n",
       "  mean: 0.47453, std: 0.61043, params: {'max_features': 16}],\n",
       " {'max_features': 3},\n",
       " 0.5256362635616101)"
      ]
     },
     "execution_count": 71,
     "metadata": {},
     "output_type": "execute_result"
    }
   ],
   "source": [
    "param_test4 = {'max_features':np.arange(3,17,1)}\n",
    "gsearch4 = GridSearchCV(estimator=GradientBoostingRegressor(learning_rate=0.05, n_estimators=90,max_depth=9, \n",
    "                                                            min_samples_split=600,min_samples_leaf = 10 ,\n",
    "                                                            max_features='sqrt',subsample=0.8, random_state=10),\n",
    "                       param_grid=param_test4, scoring = 'r2', n_jobs=4,iid=False,cv=5)\n",
    "gsearch4.fit(train_ps1[feat], train_ps1['return'])\n",
    "gsearch4.grid_scores_, gsearch4.best_params_, gsearch4.best_score_"
   ]
  },
  {
   "cell_type": "markdown",
   "metadata": {},
   "source": [
    "'max_features': 6\n",
    "max_depth=9\n",
    "min_samples_split=400"
   ]
  },
  {
   "cell_type": "code",
   "execution_count": 54,
   "metadata": {
    "collapsed": true
   },
   "outputs": [
    {
     "data": {
      "text/plain": [
       "([mean: 0.44518, std: 0.60691, params: {'subsample': 0.40000000000000002},\n",
       "  mean: 0.46179, std: 0.59657, params: {'subsample': 0.45000000000000001},\n",
       "  mean: 0.45090, std: 0.61614, params: {'subsample': 0.5},\n",
       "  mean: 0.46059, std: 0.62570, params: {'subsample': 0.55000000000000004},\n",
       "  mean: 0.47270, std: 0.61047, params: {'subsample': 0.59999999999999998},\n",
       "  mean: 0.47218, std: 0.62775, params: {'subsample': 0.64999999999999991},\n",
       "  mean: 0.47225, std: 0.62522, params: {'subsample': 0.69999999999999996},\n",
       "  mean: 0.46593, std: 0.64555, params: {'subsample': 0.75},\n",
       "  mean: 0.49079, std: 0.60531, params: {'subsample': 0.79999999999999993},\n",
       "  mean: 0.48141, std: 0.62293, params: {'subsample': 0.84999999999999987}],\n",
       " {'subsample': 0.79999999999999993},\n",
       " 0.49078978842855714)"
      ]
     },
     "execution_count": 54,
     "metadata": {},
     "output_type": "execute_result"
    }
   ],
   "source": [
    "param_test5 = {'subsample':np.arange(0.4,0.9,0.05)}\n",
    "gsearch5 = GridSearchCV(estimator=GradientBoostingRegressor(learning_rate=0.05,min_samples_leaf=40, n_estimators=90,max_depth=9, min_samples_split=400, \n",
    "                                                            max_features=6, random_state=10),\n",
    "                       param_grid=param_test5, scoring = 'r2', n_jobs=4,iid=False,cv=5)\n",
    "gsearch5.fit(train_ps1[feat], train_ps1['return'])\n",
    "gsearch5.grid_scores_, gsearch5.best_params_, gsearch5.best_score_"
   ]
  },
  {
   "cell_type": "code",
   "execution_count": 55,
   "metadata": {
    "collapsed": true
   },
   "outputs": [
    {
     "name": "stdout",
     "output_type": "stream",
     "text": [
      "/n mOdel rePort\n",
      "R2 score 0.829673\n",
      "CV score : mean 0.4907898 | std 0.6053077 | min -0.6467595 | max 0.9643035 | \n"
     ]
    },
    {
     "data": {
      "image/png": "[encoded data removed]",
      "text/plain": [
       "<matplotlib.figure.Figure at 0x7f7bd37262b0>"
      ]
     },
     "metadata": {},
     "output_type": "display_data"
    }
   ],
   "source": [
    "model_fit(gsearch5.best_estimator_,train_ps1, feat)"
   ]
  },
  {
   "cell_type": "code",
   "execution_count": 72,
   "metadata": {},
   "outputs": [
    {
     "name": "stdout",
     "output_type": "stream",
     "text": [
      "/n mOdel rePort\n",
      "R2 score 0.844818\n",
      "CV score : mean 0.4811581 | std 0.6412896 | min -0.7335906 | max 0.9660895 | \n"
     ]
    },
    {
     "data": {
      "image/png": "[encoded data removed]",
      "text/plain": [
       "<matplotlib.figure.Figure at 0x7f7bd3647748>"
      ]
     },
     "metadata": {},
     "output_type": "display_data"
    }
   ],
   "source": [
    "gbm_tuned1 = GradientBoostingRegressor(learning_rate=0.1, n_estimators=90,max_depth=9,min_samples_split=400,\n",
    "                                      min_samples_leaf=40,subsample=0.8,random_state=10, max_features =6 )\n",
    "model_fit(gbm_tuned1,train_ps1,feat)"
   ]
  },
  {
   "cell_type": "code",
   "execution_count": 73,
   "metadata": {},
   "outputs": [],
   "source": [
    "prediction = gbm_tuned1.predict(test_ps1[feat])\n",
    "submissions = pd.DataFrame({'portfolio_id':test_ps1_demo.portfolio_id, 'return':prediction})\n",
    "submissions.to_csv('results_gbm_tuned1.csv', index=False)"
   ]
  },
  {
   "cell_type": "code",
   "execution_count": 58,
   "metadata": {},
   "outputs": [],
   "source": [
    "test_ps1_demo = pd.read_csv(\"test.csv\")"
   ]
  },
  {
   "cell_type": "markdown",
   "metadata": {},
   "source": []
  },
  {
   "cell_type": "markdown",
   "metadata": {},
   "source": []
  },
  {
   "cell_type": "code",
   "execution_count": 74,
   "metadata": {},
   "outputs": [],
   "source": [
    "#using light gbm for parameter tuning\n"
   ]
  },
  {
   "cell_type": "code",
   "execution_count": 80,
   "metadata": {},
   "outputs": [],
   "source": [
    "#train test split\n",
    "from sklearn.cross_validation import train_test_split\n",
    "x_train,x_test,y_train,y_test = train_test_split(train_ps1[feat],train_ps1['return'],test_size = 0.25, \n",
    "                                                 random_state=10)"
   ]
  },
  {
   "cell_type": "code",
   "execution_count": 83,
   "metadata": {},
   "outputs": [
    {
     "data": {
      "text/plain": [
       "(9366, 25)"
      ]
     },
     "execution_count": 83,
     "metadata": {},
     "output_type": "execute_result"
    }
   ],
   "source": [
    "train_ps1.shape"
   ]
  },
  {
   "cell_type": "code",
   "execution_count": 84,
   "metadata": {},
   "outputs": [],
   "source": [
    "train_ps1_demo = pd.read_csv(\"train.csv\")"
   ]
  },
  {
   "cell_type": "code",
   "execution_count": 87,
   "metadata": {},
   "outputs": [
    {
     "data": {
      "text/plain": [
       "False    5701\n",
       "True     3665\n",
       "Name: desk_id, dtype: int64"
      ]
     },
     "execution_count": 87,
     "metadata": {},
     "output_type": "execute_result"
    }
   ],
   "source": [
    "train_ps1_demo.desk_id.isnull().value_counts()\n"
   ]
  },
  {
   "cell_type": "code",
   "execution_count": 88,
   "metadata": {},
   "outputs": [
    {
     "data": {
      "text/plain": [
       "<matplotlib.axes.AxesSubplot at 0x7f7bd3356dd8>"
      ]
     },
     "execution_count": 88,
     "metadata": {},
     "output_type": "execute_result"
    },
    {
     "data": {
      "image/png": "[encoded data removed]",
      "text/plain": [
       "<matplotlib.figure.Figure at 0x7f7bd35a64e0>"
      ]
     },
     "metadata": {},
     "output_type": "display_data"
    }
   ],
   "source": [
    "train_ps1.balance.hist()"
   ]
  },
  {
   "cell_type": "code",
   "execution_count": null,
   "metadata": {},
   "outputs": [],
   "source": []
  },
  {
   "cell_type": "code",
   "execution_count": null,
   "metadata": {},
   "outputs": [],
   "source": []
  },
  {
   "cell_type": "code",
   "execution_count": null,
   "metadata": {},
   "outputs": [],
   "source": []
  },
  {
   "cell_type": "code",
   "execution_count": 109,
   "metadata": {},
   "outputs": [
    {
     "data": {
      "text/plain": [
       "(array([  2.00000000e+00,   1.10000000e+01,   4.10000000e+01,\n",
       "          9.26700000e+03,   1.70000000e+01,   1.30000000e+01,\n",
       "          7.00000000e+00,   3.00000000e+00,   4.00000000e+00,\n",
       "          1.00000000e+00]),\n",
       " array([ -68.,  -47.,  -26.,   -5.,   16.,   37.,   58.,   79.,  100.,\n",
       "         121.,  142.]),\n",
       " <a list of 10 Patch objects>)"
      ]
     },
     "execution_count": 109,
     "metadata": {},
     "output_type": "execute_result"
    },
    {
     "data": {
      "image/png": "[encoded data removed]",
      "text/plain": [
       "<matplotlib.figure.Figure at 0x7f7bc29be710>"
      ]
     },
     "metadata": {},
     "output_type": "display_data"
    }
   ],
   "source": [
    "plt.hist(train_ps1.train_ps1_start_creation)"
   ]
  },
  {
   "cell_type": "code",
   "execution_count": 110,
   "metadata": {},
   "outputs": [],
   "source": [
    "import seaborn as sns"
   ]
  },
  {
   "cell_type": "code",
   "execution_count": 117,
   "metadata": {},
   "outputs": [
    {
     "data": {
      "text/plain": [
       "<seaborn.axisgrid.FacetGrid at 0x7f7bc2d89908>"
      ]
     },
     "execution_count": 117,
     "metadata": {},
     "output_type": "execute_result"
    },
    {
     "name": "stderr",
     "output_type": "stream",
     "text": [
      "/usr/lib/python3/dist-packages/matplotlib/collections.py:549: FutureWarning: elementwise comparison failed; returning scalar instead, but in the future will perform elementwise comparison\n",
      "  if self._edgecolors == 'face':\n"
     ]
    },
    {
     "data": {
      "image/png": "[encoded data removed]",
      "text/plain": [
       "<matplotlib.figure.Figure at 0x7f7bc2dfe1d0>"
      ]
     },
     "metadata": {},
     "output_type": "display_data"
    }
   ],
   "source": [
    "sns.lmplot(x = 'train_ps1_start_creation', y = 'return',data=train_ps1,fit_reg=False)"
   ]
  },
  {
   "cell_type": "code",
   "execution_count": null,
   "metadata": {},
   "outputs": [],
   "source": []
  }
 ],
 "metadata": {
  "kernelspec": {
   "display_name": "Python 3",
   "language": "python",
   "name": "python3"
  },
  "language_info": {
   "codemirror_mode": {
    "name": "ipython",
    "version": 3
   },
   "file_extension": ".py",
   "mimetype": "text/x-python",
   "name": "python",
   "nbconvert_exporter": "python",
   "pygments_lexer": "ipython3",
   "version": "3.4.3"
  }
 },
 "nbformat": 4,
 "nbformat_minor": 2
}
