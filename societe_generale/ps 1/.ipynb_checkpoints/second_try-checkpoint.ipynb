{
 "cells": [
  {
   "cell_type": "code",
   "execution_count": 1,
   "metadata": {},
   "outputs": [],
   "source": [
    "import numpy as np\n",
    "import pandas as pd \n",
    "from matplotlib import pyplot as plt\n",
    "%matplotlib inline"
   ]
  },
  {
   "cell_type": "code",
   "execution_count": 2,
   "metadata": {},
   "outputs": [],
   "source": [
    "train_ps1 = pd.read_csv(\"train.csv\")\n",
    "test_ps1 = pd.read_csv(\"test.csv\")"
   ]
  },
  {
   "cell_type": "code",
   "execution_count": 3,
   "metadata": {},
   "outputs": [
    {
     "data": {
      "text/html": [
       "<div>\n",
       "<style>\n",
       "    .dataframe thead tr:only-child th {\n",
       "        text-align: right;\n",
       "    }\n",
       "\n",
       "    .dataframe thead th {\n",
       "        text-align: left;\n",
       "    }\n",
       "\n",
       "    .dataframe tbody tr th {\n",
       "        vertical-align: top;\n",
       "    }\n",
       "</style>\n",
       "<table border=\"1\" class=\"dataframe\">\n",
       "  <thead>\n",
       "    <tr style=\"text-align: right;\">\n",
       "      <th></th>\n",
       "      <th>portfolio_id</th>\n",
       "      <th>desk_id</th>\n",
       "      <th>office_id</th>\n",
       "      <th>pf_category</th>\n",
       "      <th>start_date</th>\n",
       "      <th>sold</th>\n",
       "      <th>country_code</th>\n",
       "      <th>euribor_rate</th>\n",
       "      <th>currency</th>\n",
       "      <th>libor_rate</th>\n",
       "      <th>bought</th>\n",
       "      <th>creation_date</th>\n",
       "      <th>indicator_code</th>\n",
       "      <th>sell_date</th>\n",
       "      <th>type</th>\n",
       "      <th>hedge_value</th>\n",
       "      <th>status</th>\n",
       "      <th>return</th>\n",
       "    </tr>\n",
       "  </thead>\n",
       "  <tbody>\n",
       "    <tr>\n",
       "      <th>0</th>\n",
       "      <td>PF00001002</td>\n",
       "      <td>DSK00001001</td>\n",
       "      <td>OFF00001002</td>\n",
       "      <td>B</td>\n",
       "      <td>20040720</td>\n",
       "      <td>110000000.0</td>\n",
       "      <td>T</td>\n",
       "      <td>0.02074</td>\n",
       "      <td>USD</td>\n",
       "      <td>2.332216</td>\n",
       "      <td>1.098097e+08</td>\n",
       "      <td>20040720</td>\n",
       "      <td>NaN</td>\n",
       "      <td>20040812</td>\n",
       "      <td>B</td>\n",
       "      <td>NaN</td>\n",
       "      <td>NaN</td>\n",
       "      <td>0.02496</td>\n",
       "    </tr>\n",
       "    <tr>\n",
       "      <th>1</th>\n",
       "      <td>PF00001003</td>\n",
       "      <td>DSK00001002</td>\n",
       "      <td>OFF00001001</td>\n",
       "      <td>A</td>\n",
       "      <td>20040709</td>\n",
       "      <td>176671000.0</td>\n",
       "      <td>N</td>\n",
       "      <td>0.02074</td>\n",
       "      <td>GBP</td>\n",
       "      <td>5.269617</td>\n",
       "      <td>1.760084e+08</td>\n",
       "      <td>20040723</td>\n",
       "      <td>NaN</td>\n",
       "      <td>20040812</td>\n",
       "      <td>C</td>\n",
       "      <td>NaN</td>\n",
       "      <td>NaN</td>\n",
       "      <td>0.05496</td>\n",
       "    </tr>\n",
       "    <tr>\n",
       "      <th>2</th>\n",
       "      <td>PF00001005</td>\n",
       "      <td>DSK00001004</td>\n",
       "      <td>OFF00001001</td>\n",
       "      <td>A</td>\n",
       "      <td>20040723</td>\n",
       "      <td>56474000.0</td>\n",
       "      <td>T</td>\n",
       "      <td>0.02074</td>\n",
       "      <td>USD</td>\n",
       "      <td>2.332216</td>\n",
       "      <td>5.637953e+07</td>\n",
       "      <td>20040723</td>\n",
       "      <td>NaN</td>\n",
       "      <td>20040817</td>\n",
       "      <td>A</td>\n",
       "      <td>NaN</td>\n",
       "      <td>NaN</td>\n",
       "      <td>0.02496</td>\n",
       "    </tr>\n",
       "    <tr>\n",
       "      <th>3</th>\n",
       "      <td>PF00001006</td>\n",
       "      <td>DSK00001005</td>\n",
       "      <td>OFF00001001</td>\n",
       "      <td>A</td>\n",
       "      <td>20040609</td>\n",
       "      <td>164813000.0</td>\n",
       "      <td>T</td>\n",
       "      <td>0.02074</td>\n",
       "      <td>USD</td>\n",
       "      <td>2.332216</td>\n",
       "      <td>1.645088e+08</td>\n",
       "      <td>20040723</td>\n",
       "      <td>NaN</td>\n",
       "      <td>20040713</td>\n",
       "      <td>A</td>\n",
       "      <td>NaN</td>\n",
       "      <td>NaN</td>\n",
       "      <td>0.02496</td>\n",
       "    </tr>\n",
       "    <tr>\n",
       "      <th>4</th>\n",
       "      <td>PF00001007</td>\n",
       "      <td>DSK00001005</td>\n",
       "      <td>OFF00001002</td>\n",
       "      <td>B</td>\n",
       "      <td>20040609</td>\n",
       "      <td>140800000.0</td>\n",
       "      <td>T</td>\n",
       "      <td>0.02074</td>\n",
       "      <td>USD</td>\n",
       "      <td>2.332216</td>\n",
       "      <td>1.405402e+08</td>\n",
       "      <td>20040723</td>\n",
       "      <td>NaN</td>\n",
       "      <td>20040713</td>\n",
       "      <td>B</td>\n",
       "      <td>NaN</td>\n",
       "      <td>NaN</td>\n",
       "      <td>0.02496</td>\n",
       "    </tr>\n",
       "  </tbody>\n",
       "</table>\n",
       "</div>"
      ],
      "text/plain": [
       "  portfolio_id      desk_id    office_id pf_category  start_date         sold  \\\n",
       "0   PF00001002  DSK00001001  OFF00001002           B    20040720  110000000.0   \n",
       "1   PF00001003  DSK00001002  OFF00001001           A    20040709  176671000.0   \n",
       "2   PF00001005  DSK00001004  OFF00001001           A    20040723   56474000.0   \n",
       "3   PF00001006  DSK00001005  OFF00001001           A    20040609  164813000.0   \n",
       "4   PF00001007  DSK00001005  OFF00001002           B    20040609  140800000.0   \n",
       "\n",
       "  country_code  euribor_rate currency  libor_rate        bought  \\\n",
       "0            T       0.02074      USD    2.332216  1.098097e+08   \n",
       "1            N       0.02074      GBP    5.269617  1.760084e+08   \n",
       "2            T       0.02074      USD    2.332216  5.637953e+07   \n",
       "3            T       0.02074      USD    2.332216  1.645088e+08   \n",
       "4            T       0.02074      USD    2.332216  1.405402e+08   \n",
       "\n",
       "   creation_date indicator_code  sell_date type hedge_value status   return  \n",
       "0       20040720            NaN   20040812    B         NaN    NaN  0.02496  \n",
       "1       20040723            NaN   20040812    C         NaN    NaN  0.05496  \n",
       "2       20040723            NaN   20040817    A         NaN    NaN  0.02496  \n",
       "3       20040723            NaN   20040713    A         NaN    NaN  0.02496  \n",
       "4       20040723            NaN   20040713    B         NaN    NaN  0.02496  "
      ]
     },
     "execution_count": 3,
     "metadata": {},
     "output_type": "execute_result"
    }
   ],
   "source": [
    "train_ps1.head()\n"
   ]
  },
  {
   "cell_type": "code",
   "execution_count": 4,
   "metadata": {},
   "outputs": [
    {
     "data": {
      "text/plain": [
       "['portfolio_id',\n",
       " 'desk_id',\n",
       " 'office_id',\n",
       " 'pf_category',\n",
       " 'country_code',\n",
       " 'currency',\n",
       " 'type']"
      ]
     },
     "execution_count": 4,
     "metadata": {},
     "output_type": "execute_result"
    }
   ],
   "source": [
    "#preprocessong\n",
    "#encoding the required variables\n",
    "encoding_req = ['portfolio_id','desk_id','office_id','pf_category','country_code','currency','type']\n",
    "encoding_req\n"
   ]
  },
  {
   "cell_type": "code",
   "execution_count": 5,
   "metadata": {},
   "outputs": [],
   "source": [
    "from sklearn.preprocessing import LabelEncoder\n",
    "label_enc = LabelEncoder()\n"
   ]
  },
  {
   "cell_type": "code",
   "execution_count": 6,
   "metadata": {},
   "outputs": [],
   "source": [
    "train_ps1['desk_id'].fillna(\"null\", inplace = True)\n",
    "test_ps1['desk_id'].fillna(\"null\", inplace = True)\n",
    "train_ps1['indicator_code'].fillna(False, inplace = True)\n",
    "train_ps1['status'].fillna(False, inplace = True)\n",
    "train_ps1['hedge_value'].fillna(False, inplace = True)\n",
    "test_ps1['indicator_code'].fillna(False, inplace = True)\n",
    "test_ps1['status'].fillna(False, inplace = True)\n",
    "test_ps1['hedge_value'].fillna(False, inplace = True)"
   ]
  },
  {
   "cell_type": "code",
   "execution_count": 7,
   "metadata": {},
   "outputs": [],
   "source": [
    "train_ps1['balance'] = train_ps1.sold - train_ps1.bought\n",
    "test_ps1['balance'] = test_ps1.sold - test_ps1.bought"
   ]
  },
  {
   "cell_type": "code",
   "execution_count": 8,
   "metadata": {},
   "outputs": [],
   "source": [
    "train_ps1.libor_rate.fillna(train_ps1.libor_rate.mean(), inplace = True)\n",
    "train_ps1.balance.fillna(train_ps1.balance.mean(), inplace=True)\n",
    "test_ps1.libor_rate.fillna(test_ps1.libor_rate.mean(), inplace = True)\n",
    "test_ps1.balance.fillna(test_ps1.balance.mean(), inplace=True)"
   ]
  },
  {
   "cell_type": "code",
   "execution_count": 9,
   "metadata": {
    "collapsed": true
   },
   "outputs": [
    {
     "name": "stdout",
     "output_type": "stream",
     "text": [
      "portfolio_id\n",
      "False    9366\n",
      "Name: portfolio_id, dtype: int64\n",
      "desk_id\n",
      "False    9366\n",
      "Name: desk_id, dtype: int64\n",
      "office_id\n",
      "False    9366\n",
      "Name: office_id, dtype: int64\n",
      "pf_category\n",
      "False    9366\n",
      "Name: pf_category, dtype: int64\n",
      "country_code\n",
      "False    9366\n",
      "Name: country_code, dtype: int64\n",
      "currency\n",
      "False    9366\n",
      "Name: currency, dtype: int64\n",
      "type\n",
      "False    9366\n",
      "Name: type, dtype: int64\n"
     ]
    }
   ],
   "source": [
    "for f in encoding_req:\n",
    "    print(f)\n",
    "    print(train_ps1[f].isnull().value_counts())"
   ]
  },
  {
   "cell_type": "code",
   "execution_count": 10,
   "metadata": {
    "scrolled": true
   },
   "outputs": [],
   "source": [
    "for f in encoding_req:\n",
    "    label_enc.fit(np.hstack([train_ps1[f], test_ps1[f]]))\n",
    "    train_ps1[f] = pd.DataFrame(label_enc.transform(train_ps1[f]))\n",
    "    test_ps1[f] = pd.DataFrame(label_enc.transform(test_ps1[f]))"
   ]
  },
  {
   "cell_type": "code",
   "execution_count": 11,
   "metadata": {},
   "outputs": [],
   "source": [
    "#separate the dates into datetime format\n",
    "train_ps1['start_date_datetime'] = train_ps1['start_date'].apply(lambda x: pd.to_datetime(str(x), format = '%Y%m%d'))\n",
    "train_ps1['creation_date_datetime'] = train_ps1['creation_date'].apply(lambda x: pd.to_datetime(str(x), format = '%Y%m%d'))\n",
    "train_ps1['sell_date_datetime'] = train_ps1['sell_date'].apply(lambda x: pd.to_datetime(str(x), format = '%Y%m%d'))\n"
   ]
  },
  {
   "cell_type": "code",
   "execution_count": 12,
   "metadata": {},
   "outputs": [],
   "source": [
    "#make the time difference table\n",
    "train_ps1['train_ps1_start_sell'] = train_ps1['sell_date_datetime']-train_ps1['start_date_datetime']\n",
    "train_ps1['train_ps1_start_creation'] = train_ps1['creation_date_datetime']-train_ps1['start_date_datetime']\n",
    "train_ps1['train_ps1_creation_sell'] = train_ps1['sell_date_datetime']-train_ps1['creation_date_datetime']\n",
    "train_ps1['train_ps1_start_sell'] = train_ps1['train_ps1_start_sell'].dt.days\n",
    "train_ps1['train_ps1_start_creation'] = train_ps1['train_ps1_start_creation'].dt.days\n",
    "train_ps1['train_ps1_creation_sell'] = train_ps1['train_ps1_creation_sell'].dt.days"
   ]
  },
  {
   "cell_type": "code",
   "execution_count": 13,
   "metadata": {},
   "outputs": [],
   "source": [
    "test_ps1['start_date_datetime'] = test_ps1['start_date'].apply(lambda x: pd.to_datetime(str(x), format = '%Y%m%d'))\n",
    "test_ps1['creation_date_datetime'] = test_ps1['creation_date'].apply(lambda x: pd.to_datetime(str(x), format = '%Y%m%d'))\n",
    "test_ps1['sell_date_datetime'] = test_ps1['sell_date'].apply(lambda x: pd.to_datetime(str(x), format = '%Y%m%d'))\n"
   ]
  },
  {
   "cell_type": "code",
   "execution_count": 14,
   "metadata": {},
   "outputs": [],
   "source": [
    "#make the time difference table\n",
    "test_ps1['train_ps1_start_sell'] = test_ps1['sell_date_datetime']-test_ps1['start_date_datetime']\n",
    "test_ps1['train_ps1_start_creation'] = test_ps1['creation_date_datetime']-test_ps1['start_date_datetime']\n",
    "test_ps1['train_ps1_creation_sell'] = test_ps1['sell_date_datetime']-test_ps1['creation_date_datetime']\n",
    "test_ps1['train_ps1_start_sell'] = test_ps1['train_ps1_start_sell'].dt.days\n",
    "test_ps1['train_ps1_start_creation'] = test_ps1['train_ps1_start_creation'].dt.days\n",
    "test_ps1['train_ps1_creation_sell'] = test_ps1['train_ps1_creation_sell'].dt.days"
   ]
  },
  {
   "cell_type": "code",
   "execution_count": 15,
   "metadata": {},
   "outputs": [],
   "source": [
    "#creating y\n",
    "y = pd.DataFrame(train_ps1['return'])"
   ]
  },
  {
   "cell_type": "code",
   "execution_count": 16,
   "metadata": {},
   "outputs": [
    {
     "data": {
      "text/plain": [
       "Index(['portfolio_id', 'desk_id', 'office_id', 'pf_category', 'start_date',\n",
       "       'sold', 'country_code', 'euribor_rate', 'currency', 'libor_rate',\n",
       "       'bought', 'creation_date', 'indicator_code', 'sell_date', 'type',\n",
       "       'hedge_value', 'status', 'return', 'balance', 'start_date_datetime',\n",
       "       'creation_date_datetime', 'sell_date_datetime', 'train_ps1_start_sell',\n",
       "       'train_ps1_start_creation', 'train_ps1_creation_sell'],\n",
       "      dtype='object')"
      ]
     },
     "execution_count": 16,
     "metadata": {},
     "output_type": "execute_result"
    }
   ],
   "source": [
    "features = train_ps1.columns\n",
    "features"
   ]
  },
  {
   "cell_type": "code",
   "execution_count": 17,
   "metadata": {},
   "outputs": [
    {
     "data": {
      "text/plain": [
       "['portfolio_id',\n",
       " 'desk_id',\n",
       " 'office_id',\n",
       " 'pf_category',\n",
       " 'country_code',\n",
       " 'euribor_rate',\n",
       " 'currency',\n",
       " 'libor_rate',\n",
       " 'indicator_code',\n",
       " 'type',\n",
       " 'hedge_value',\n",
       " 'status',\n",
       " 'train_ps1_start_sell',\n",
       " 'train_ps1_start_creation',\n",
       " 'train_ps1_creation_sell',\n",
       " 'balance']"
      ]
     },
     "execution_count": 17,
     "metadata": {},
     "output_type": "execute_result"
    }
   ],
   "source": [
    "#selected features\n",
    "feat = ['portfolio_id', 'desk_id', 'office_id', 'pf_category',\n",
    "               'country_code', 'euribor_rate', 'currency', 'libor_rate',\n",
    "                'indicator_code','type','hedge_value', 'status','train_ps1_start_sell',\n",
    "               'train_ps1_start_creation', 'train_ps1_creation_sell', 'balance']\n",
    "feat"
   ]
  },
  {
   "cell_type": "code",
   "execution_count": 26,
   "metadata": {},
   "outputs": [],
   "source": [
    "#applying rf regressor\n",
    "from sklearn.ensemble import RandomForestRegressor\n",
    "rf = RandomForestRegressor(random_state=0)"
   ]
  },
  {
   "cell_type": "code",
   "execution_count": 86,
   "metadata": {
    "collapsed": true
   },
   "outputs": [
    {
     "name": "stdout",
     "output_type": "stream",
     "text": [
      "portfolio_id\n",
      "False    9366\n",
      "Name: portfolio_id, dtype: int64\n",
      "desk_id\n",
      "False    9366\n",
      "Name: desk_id, dtype: int64\n",
      "office_id\n",
      "False    9366\n",
      "Name: office_id, dtype: int64\n",
      "pf_category\n",
      "False    9366\n",
      "Name: pf_category, dtype: int64\n",
      "country_code\n",
      "False    9366\n",
      "Name: country_code, dtype: int64\n",
      "euribor_rate\n",
      "False    9366\n",
      "Name: euribor_rate, dtype: int64\n",
      "currency\n",
      "False    9366\n",
      "Name: currency, dtype: int64\n",
      "libor_rate\n",
      "False    9366\n",
      "Name: libor_rate, dtype: int64\n",
      "indicator_code\n",
      "False    9366\n",
      "Name: indicator_code, dtype: int64\n",
      "type\n",
      "False    9366\n",
      "Name: type, dtype: int64\n",
      "hedge_value\n",
      "False    9366\n",
      "Name: hedge_value, dtype: int64\n",
      "status\n",
      "False    9366\n",
      "Name: status, dtype: int64\n",
      "train_ps1_start_sell\n",
      "False    9366\n",
      "Name: train_ps1_start_sell, dtype: int64\n",
      "train_ps1_start_creation\n",
      "False    9366\n",
      "Name: train_ps1_start_creation, dtype: int64\n",
      "train_ps1_creation_sell\n",
      "False    9366\n",
      "Name: train_ps1_creation_sell, dtype: int64\n",
      "balance\n",
      "False    9366\n",
      "Name: balance, dtype: int64\n"
     ]
    }
   ],
   "source": [
    "for f in feat:\n",
    "    print(f)\n",
    "    print(train_ps1[f].isnull().value_counts())"
   ]
  },
  {
   "cell_type": "code",
   "execution_count": 27,
   "metadata": {},
   "outputs": [
    {
     "name": "stderr",
     "output_type": "stream",
     "text": [
      "/usr/local/lib/python3.4/dist-packages/ipykernel_launcher.py:1: DataConversionWarning: A column-vector y was passed when a 1d array was expected. Please change the shape of y to (n_samples,), for example using ravel().\n",
      "  \"\"\"Entry point for launching an IPython kernel.\n"
     ]
    },
    {
     "data": {
      "text/plain": [
       "RandomForestRegressor(bootstrap=True, criterion='mse', max_depth=None,\n",
       "           max_features='auto', max_leaf_nodes=None,\n",
       "           min_impurity_decrease=0.0, min_impurity_split=None,\n",
       "           min_samples_leaf=1, min_samples_split=2,\n",
       "           min_weight_fraction_leaf=0.0, n_estimators=10, n_jobs=1,\n",
       "           oob_score=False, random_state=0, verbose=0, warm_start=False)"
      ]
     },
     "execution_count": 27,
     "metadata": {},
     "output_type": "execute_result"
    }
   ],
   "source": [
    "rf.fit(train_ps1[feat],y)"
   ]
  },
  {
   "cell_type": "code",
   "execution_count": 92,
   "metadata": {},
   "outputs": [],
   "source": [
    "#test_ps1.indicator_code = test_ps1.indicator_code.replace(\"null\", False)\n",
    "#test_ps1.hedge_value.fillna(False, inplace = True)\n",
    "#test_ps1.status.fillna(False, inplace = True)\n"
   ]
  },
  {
   "cell_type": "code",
   "execution_count": 101,
   "metadata": {
    "collapsed": true
   },
   "outputs": [
    {
     "name": "stdout",
     "output_type": "stream",
     "text": [
      "portfolio_id\n",
      "False    4801\n",
      "Name: portfolio_id, dtype: int64\n",
      "desk_id\n",
      "False    4801\n",
      "Name: desk_id, dtype: int64\n",
      "office_id\n",
      "False    4801\n",
      "Name: office_id, dtype: int64\n",
      "pf_category\n",
      "False    4801\n",
      "Name: pf_category, dtype: int64\n",
      "country_code\n",
      "False    4801\n",
      "Name: country_code, dtype: int64\n",
      "euribor_rate\n",
      "False    4801\n",
      "Name: euribor_rate, dtype: int64\n",
      "currency\n",
      "False    4801\n",
      "Name: currency, dtype: int64\n",
      "libor_rate\n",
      "False    4801\n",
      "Name: libor_rate, dtype: int64\n",
      "indicator_code\n",
      "False    4801\n",
      "Name: indicator_code, dtype: int64\n",
      "type\n",
      "False    4801\n",
      "Name: type, dtype: int64\n",
      "hedge_value\n",
      "False    4801\n",
      "Name: hedge_value, dtype: int64\n",
      "status\n",
      "False    4801\n",
      "Name: status, dtype: int64\n",
      "train_ps1_start_sell\n",
      "False    4801\n",
      "Name: train_ps1_start_sell, dtype: int64\n",
      "train_ps1_start_creation\n",
      "False    4801\n",
      "Name: train_ps1_start_creation, dtype: int64\n",
      "train_ps1_creation_sell\n",
      "False    4801\n",
      "Name: train_ps1_creation_sell, dtype: int64\n",
      "balance\n",
      "False    4801\n",
      "Name: balance, dtype: int64\n"
     ]
    }
   ],
   "source": [
    "for f in feat:\n",
    "    print(f)\n",
    "    print(test_ps1[f].isnull().value_counts())"
   ]
  },
  {
   "cell_type": "code",
   "execution_count": 28,
   "metadata": {
    "scrolled": true
   },
   "outputs": [
    {
     "data": {
      "text/html": [
       "<div>\n",
       "<style>\n",
       "    .dataframe thead tr:only-child th {\n",
       "        text-align: right;\n",
       "    }\n",
       "\n",
       "    .dataframe thead th {\n",
       "        text-align: left;\n",
       "    }\n",
       "\n",
       "    .dataframe tbody tr th {\n",
       "        vertical-align: top;\n",
       "    }\n",
       "</style>\n",
       "<table border=\"1\" class=\"dataframe\">\n",
       "  <thead>\n",
       "    <tr style=\"text-align: right;\">\n",
       "      <th></th>\n",
       "      <th>portfolio_id</th>\n",
       "      <th>desk_id</th>\n",
       "      <th>office_id</th>\n",
       "      <th>pf_category</th>\n",
       "      <th>start_date</th>\n",
       "      <th>sold</th>\n",
       "      <th>country_code</th>\n",
       "      <th>euribor_rate</th>\n",
       "      <th>currency</th>\n",
       "      <th>libor_rate</th>\n",
       "      <th>...</th>\n",
       "      <th>type</th>\n",
       "      <th>hedge_value</th>\n",
       "      <th>status</th>\n",
       "      <th>balance</th>\n",
       "      <th>start_date_datetime</th>\n",
       "      <th>creation_date_datetime</th>\n",
       "      <th>sell_date_datetime</th>\n",
       "      <th>train_ps1_start_sell</th>\n",
       "      <th>train_ps1_start_creation</th>\n",
       "      <th>train_ps1_creation_sell</th>\n",
       "    </tr>\n",
       "  </thead>\n",
       "  <tbody>\n",
       "    <tr>\n",
       "      <th>0</th>\n",
       "      <td>0</td>\n",
       "      <td>0</td>\n",
       "      <td>0</td>\n",
       "      <td>0</td>\n",
       "      <td>20040720</td>\n",
       "      <td>171831000.0</td>\n",
       "      <td>2</td>\n",
       "      <td>0.02074</td>\n",
       "      <td>4</td>\n",
       "      <td>2.332216</td>\n",
       "      <td>...</td>\n",
       "      <td>0</td>\n",
       "      <td>False</td>\n",
       "      <td>False</td>\n",
       "      <td>297325.036602</td>\n",
       "      <td>2004-07-20</td>\n",
       "      <td>2004-07-20</td>\n",
       "      <td>2004-08-12</td>\n",
       "      <td>23</td>\n",
       "      <td>0</td>\n",
       "      <td>23</td>\n",
       "    </tr>\n",
       "    <tr>\n",
       "      <th>1</th>\n",
       "      <td>3</td>\n",
       "      <td>2</td>\n",
       "      <td>1</td>\n",
       "      <td>1</td>\n",
       "      <td>20040723</td>\n",
       "      <td>56485000.0</td>\n",
       "      <td>2</td>\n",
       "      <td>0.02074</td>\n",
       "      <td>4</td>\n",
       "      <td>2.332216</td>\n",
       "      <td>...</td>\n",
       "      <td>1</td>\n",
       "      <td>False</td>\n",
       "      <td>False</td>\n",
       "      <td>104616.933025</td>\n",
       "      <td>2004-07-23</td>\n",
       "      <td>2004-07-23</td>\n",
       "      <td>2004-07-19</td>\n",
       "      <td>-4</td>\n",
       "      <td>0</td>\n",
       "      <td>-4</td>\n",
       "    </tr>\n",
       "    <tr>\n",
       "      <th>2</th>\n",
       "      <td>8</td>\n",
       "      <td>6</td>\n",
       "      <td>0</td>\n",
       "      <td>0</td>\n",
       "      <td>20040607</td>\n",
       "      <td>41734000.0</td>\n",
       "      <td>2</td>\n",
       "      <td>0.02074</td>\n",
       "      <td>4</td>\n",
       "      <td>2.332216</td>\n",
       "      <td>...</td>\n",
       "      <td>0</td>\n",
       "      <td>False</td>\n",
       "      <td>False</td>\n",
       "      <td>72213.762808</td>\n",
       "      <td>2004-06-07</td>\n",
       "      <td>2004-07-26</td>\n",
       "      <td>2004-07-09</td>\n",
       "      <td>32</td>\n",
       "      <td>49</td>\n",
       "      <td>-17</td>\n",
       "    </tr>\n",
       "    <tr>\n",
       "      <th>3</th>\n",
       "      <td>12</td>\n",
       "      <td>9</td>\n",
       "      <td>0</td>\n",
       "      <td>0</td>\n",
       "      <td>20040716</td>\n",
       "      <td>82951000.0</td>\n",
       "      <td>2</td>\n",
       "      <td>0.02074</td>\n",
       "      <td>4</td>\n",
       "      <td>2.332216</td>\n",
       "      <td>...</td>\n",
       "      <td>0</td>\n",
       "      <td>False</td>\n",
       "      <td>False</td>\n",
       "      <td>441637.094767</td>\n",
       "      <td>2004-07-16</td>\n",
       "      <td>2004-07-26</td>\n",
       "      <td>2004-10-19</td>\n",
       "      <td>95</td>\n",
       "      <td>10</td>\n",
       "      <td>85</td>\n",
       "    </tr>\n",
       "    <tr>\n",
       "      <th>4</th>\n",
       "      <td>13</td>\n",
       "      <td>10</td>\n",
       "      <td>0</td>\n",
       "      <td>0</td>\n",
       "      <td>20040713</td>\n",
       "      <td>73293000.0</td>\n",
       "      <td>2</td>\n",
       "      <td>0.02074</td>\n",
       "      <td>4</td>\n",
       "      <td>2.332216</td>\n",
       "      <td>...</td>\n",
       "      <td>0</td>\n",
       "      <td>False</td>\n",
       "      <td>False</td>\n",
       "      <td>122453.957571</td>\n",
       "      <td>2004-07-13</td>\n",
       "      <td>2004-07-26</td>\n",
       "      <td>2004-08-13</td>\n",
       "      <td>31</td>\n",
       "      <td>13</td>\n",
       "      <td>18</td>\n",
       "    </tr>\n",
       "  </tbody>\n",
       "</table>\n",
       "<p>5 rows × 24 columns</p>\n",
       "</div>"
      ],
      "text/plain": [
       "   portfolio_id  desk_id  office_id  pf_category  start_date         sold  \\\n",
       "0             0        0          0            0    20040720  171831000.0   \n",
       "1             3        2          1            1    20040723   56485000.0   \n",
       "2             8        6          0            0    20040607   41734000.0   \n",
       "3            12        9          0            0    20040716   82951000.0   \n",
       "4            13       10          0            0    20040713   73293000.0   \n",
       "\n",
       "   country_code  euribor_rate  currency  libor_rate           ...            \\\n",
       "0             2       0.02074         4    2.332216           ...             \n",
       "1             2       0.02074         4    2.332216           ...             \n",
       "2             2       0.02074         4    2.332216           ...             \n",
       "3             2       0.02074         4    2.332216           ...             \n",
       "4             2       0.02074         4    2.332216           ...             \n",
       "\n",
       "   type  hedge_value  status        balance  start_date_datetime  \\\n",
       "0     0        False   False  297325.036602           2004-07-20   \n",
       "1     1        False   False  104616.933025           2004-07-23   \n",
       "2     0        False   False   72213.762808           2004-06-07   \n",
       "3     0        False   False  441637.094767           2004-07-16   \n",
       "4     0        False   False  122453.957571           2004-07-13   \n",
       "\n",
       "   creation_date_datetime  sell_date_datetime  train_ps1_start_sell  \\\n",
       "0              2004-07-20          2004-08-12                    23   \n",
       "1              2004-07-23          2004-07-19                    -4   \n",
       "2              2004-07-26          2004-07-09                    32   \n",
       "3              2004-07-26          2004-10-19                    95   \n",
       "4              2004-07-26          2004-08-13                    31   \n",
       "\n",
       "  train_ps1_start_creation train_ps1_creation_sell  \n",
       "0                        0                      23  \n",
       "1                        0                      -4  \n",
       "2                       49                     -17  \n",
       "3                       10                      85  \n",
       "4                       13                      18  \n",
       "\n",
       "[5 rows x 24 columns]"
      ]
     },
     "execution_count": 28,
     "metadata": {},
     "output_type": "execute_result"
    }
   ],
   "source": [
    "test_ps1.head()"
   ]
  },
  {
   "cell_type": "code",
   "execution_count": 29,
   "metadata": {},
   "outputs": [
    {
     "data": {
      "text/plain": [
       "array([ 0.02525238,  0.02848871,  0.02526451, ...,  0.00616948,\n",
       "        0.00558946,  0.00582143])"
      ]
     },
     "execution_count": 29,
     "metadata": {},
     "output_type": "execute_result"
    }
   ],
   "source": [
    "#prediction\n",
    "prediction = rf.predict(test_ps1[feat])\n",
    "prediction"
   ]
  },
  {
   "cell_type": "code",
   "execution_count": 30,
   "metadata": {},
   "outputs": [],
   "source": [
    "test_ps1_demo = pd.read_csv(\"test.csv\")"
   ]
  },
  {
   "cell_type": "code",
   "execution_count": 31,
   "metadata": {},
   "outputs": [],
   "source": [
    "submissions = pd.DataFrame({'portfolio_id':test_ps1_demo.portfolio_id, 'return':prediction})"
   ]
  },
  {
   "cell_type": "code",
   "execution_count": 107,
   "metadata": {},
   "outputs": [],
   "source": [
    "submissions.to_csv('results_2.csv')"
   ]
  },
  {
   "cell_type": "markdown",
   "metadata": {},
   "source": [
    "The above solution gave a accuracy of 58%\n",
    "shitty performance"
   ]
  },
  {
   "cell_type": "code",
   "execution_count": 114,
   "metadata": {},
   "outputs": [
    {
     "data": {
      "text/plain": [
       "16"
      ]
     },
     "execution_count": 114,
     "metadata": {},
     "output_type": "execute_result"
    }
   ],
   "source": [
    "train_ps1[feat].shape[1]"
   ]
  },
  {
   "cell_type": "code",
   "execution_count": 32,
   "metadata": {},
   "outputs": [
    {
     "data": {
      "image/png": "[encoded data removed]",
      "text/plain": [
       "<matplotlib.figure.Figure at 0x7f121d6c3f60>"
      ]
     },
     "metadata": {},
     "output_type": "display_data"
    }
   ],
   "source": [
    "#making variable importance\n",
    "importance = rf.feature_importances_\n",
    "indices = np.argsort(importance)[::-1]\n",
    "names = [train_ps1[feat].columns[i] for i in indices]\n",
    "plt.figure()\n",
    "plt.title('Feature importance')\n",
    "plt.bar(range(train_ps1[feat].shape[1]),importance[indices])\n",
    "plt.xticks(range(train_ps1[feat].shape[1]), names,rotation = 90)\n",
    "plt.show()\n"
   ]
  },
  {
   "cell_type": "code",
   "execution_count": 135,
   "metadata": {
    "collapsed": true
   },
   "outputs": [
    {
     "data": {
      "text/plain": [
       "['desk_id',\n",
       " 'country_code',\n",
       " 'euribor_rate',\n",
       " 'currency',\n",
       " 'libor_rate',\n",
       " 'indicator_code',\n",
       " 'type',\n",
       " 'status',\n",
       " 'train_ps1_creation_sell']"
      ]
     },
     "execution_count": 135,
     "metadata": {},
     "output_type": "execute_result"
    }
   ],
   "source": [
    "corr_matrix = train_ps1[feat].corr().abs()\n",
    "upper = corr_matrix.where(np.triu(np.ones(corr_matrix.shape), k=1).astype(np.bool))\n",
    "to_drop = [column for column in upper.columns if any(upper[column] > 0.75)]\n",
    "to_drop"
   ]
  },
  {
   "cell_type": "code",
   "execution_count": 136,
   "metadata": {},
   "outputs": [],
   "source": [
    "feat_corr_filter = ['portfolio_id', 'office_id', 'pf_category'\n",
    "                 \n",
    "                ,'hedge_value','train_ps1_start_sell',\n",
    "               'train_ps1_start_creation', 'balance']"
   ]
  },
  {
   "cell_type": "code",
   "execution_count": 137,
   "metadata": {
    "collapsed": true
   },
   "outputs": [
    {
     "name": "stderr",
     "output_type": "stream",
     "text": [
      "/usr/local/lib/python3.4/dist-packages/ipykernel_launcher.py:2: DataConversionWarning: A column-vector y was passed when a 1d array was expected. Please change the shape of y to (n_samples,), for example using ravel().\n",
      "  \n"
     ]
    },
    {
     "data": {
      "text/plain": [
       "RandomForestRegressor(bootstrap=True, criterion='mse', max_depth=None,\n",
       "           max_features='auto', max_leaf_nodes=None,\n",
       "           min_impurity_decrease=0.0, min_impurity_split=None,\n",
       "           min_samples_leaf=1, min_samples_split=2,\n",
       "           min_weight_fraction_leaf=0.0, n_estimators=10, n_jobs=1,\n",
       "           oob_score=False, random_state=0, verbose=0, warm_start=False)"
      ]
     },
     "execution_count": 137,
     "metadata": {},
     "output_type": "execute_result"
    }
   ],
   "source": [
    "rf_corr_filter = RandomForestRegressor(random_state=0)\n",
    "rf_corr_filter.fit(train_ps1[feat_corr_filter],y)"
   ]
  },
  {
   "cell_type": "code",
   "execution_count": 139,
   "metadata": {},
   "outputs": [],
   "source": [
    "prediction = rf_corr_filter.predict(test_ps1[feat_corr_filter])\n",
    "submissions = pd.DataFrame({'portfolio_id':test_ps1_demo.portfolio_id, 'return':prediction})\n",
    "submissions.to_csv('results_5.csv', index=False)"
   ]
  },
  {
   "cell_type": "code",
   "execution_count": 140,
   "metadata": {},
   "outputs": [],
   "source": [
    "#now we will proccede with the rf variable selection\n",
    "from sklearn.feature_selection import SelectFromModel\n"
   ]
  },
  {
   "cell_type": "code",
   "execution_count": 141,
   "metadata": {
    "collapsed": true
   },
   "outputs": [
    {
     "name": "stdout",
     "output_type": "stream",
     "text": [
      "('portfolio_id', 0.08347598898237002)\n",
      "('desk_id', 0.079735729010081066)\n",
      "('office_id', 5.0902375524247801e-05)\n",
      "('pf_category', 0.0067339026474971756)\n",
      "('country_code', 0.028027657659616838)\n",
      "('euribor_rate', 0.0676626192681518)\n",
      "('currency', 0.0061900957847403548)\n",
      "('libor_rate', 0.22568873076234444)\n",
      "('indicator_code', 1.6243763522028494e-06)\n",
      "('type', 0.016077429984358408)\n",
      "('hedge_value', 3.1353160405950089e-06)\n",
      "('status', 0.41388805691297587)\n",
      "('train_ps1_start_sell', 0.0063943404389999615)\n",
      "('train_ps1_start_creation', 0.00025479984212948279)\n",
      "('train_ps1_creation_sell', 0.0050954583978705939)\n",
      "('balance', 0.060719528240946952)\n"
     ]
    }
   ],
   "source": [
    "for f in zip(feat, rf.feature_importances_):\n",
    "    print(f)"
   ]
  },
  {
   "cell_type": "code",
   "execution_count": 151,
   "metadata": {
    "collapsed": true
   },
   "outputs": [
    {
     "name": "stderr",
     "output_type": "stream",
     "text": [
      "/usr/local/lib/python3.4/dist-packages/sklearn/feature_selection/from_model.py:169: DataConversionWarning: A column-vector y was passed when a 1d array was expected. Please change the shape of y to (n_samples,), for example using ravel().\n",
      "  self.estimator_.fit(X, y, **fit_params)\n"
     ]
    },
    {
     "data": {
      "text/plain": [
       "SelectFromModel(estimator=RandomForestRegressor(bootstrap=True, criterion='mse', max_depth=None,\n",
       "           max_features='auto', max_leaf_nodes=None,\n",
       "           min_impurity_decrease=0.0, min_impurity_split=None,\n",
       "           min_samples_leaf=1, min_samples_split=2,\n",
       "           min_weight_fraction_leaf=0.0, n_estimators=10, n_jobs=1,\n",
       "           oob_score=False, random_state=0, verbose=0, warm_start=False),\n",
       "        norm_order=1, prefit=False, threshold=0.01)"
      ]
     },
     "execution_count": 151,
     "metadata": {},
     "output_type": "execute_result"
    }
   ],
   "source": [
    "#put a threshold in the importances of\n",
    "sfm = SelectFromModel(rf, threshold=0.01)\n",
    "sfm.fit(train_ps1[feat],y)"
   ]
  },
  {
   "cell_type": "code",
   "execution_count": 152,
   "metadata": {
    "collapsed": true
   },
   "outputs": [
    {
     "name": "stdout",
     "output_type": "stream",
     "text": [
      "portfolio_id\n",
      "desk_id\n",
      "country_code\n",
      "euribor_rate\n",
      "libor_rate\n",
      "type\n",
      "status\n",
      "balance\n"
     ]
    }
   ],
   "source": [
    "for i in sfm.get_support(indices=True):\n",
    "    print(feat[i])"
   ]
  },
  {
   "cell_type": "code",
   "execution_count": 153,
   "metadata": {},
   "outputs": [],
   "source": [
    "sfm_train = sfm.transform(train_ps1[feat])\n",
    "sfm_test = sfm.transform(test_ps1[feat])"
   ]
  },
  {
   "cell_type": "code",
   "execution_count": 154,
   "metadata": {},
   "outputs": [
    {
     "name": "stderr",
     "output_type": "stream",
     "text": [
      "/usr/local/lib/python3.4/dist-packages/ipykernel_launcher.py:2: DataConversionWarning: A column-vector y was passed when a 1d array was expected. Please change the shape of y to (n_samples,), for example using ravel().\n",
      "  \n"
     ]
    },
    {
     "data": {
      "text/plain": [
       "RandomForestRegressor(bootstrap=True, criterion='mse', max_depth=None,\n",
       "           max_features='auto', max_leaf_nodes=None,\n",
       "           min_impurity_decrease=0.0, min_impurity_split=None,\n",
       "           min_samples_leaf=1, min_samples_split=2,\n",
       "           min_weight_fraction_leaf=0.0, n_estimators=10, n_jobs=1,\n",
       "           oob_score=False, random_state=0, verbose=0, warm_start=False)"
      ]
     },
     "execution_count": 154,
     "metadata": {},
     "output_type": "execute_result"
    }
   ],
   "source": [
    "rf_imp = RandomForestRegressor(random_state=0)\n",
    "rf_imp.fit(sfm_train,y)"
   ]
  },
  {
   "cell_type": "code",
   "execution_count": 155,
   "metadata": {},
   "outputs": [],
   "source": [
    "prediction = rf_imp.predict(sfm_test)\n",
    "submissions = pd.DataFrame({'portfolio_id':test_ps1_demo.portfolio_id, 'return':prediction})\n",
    "submissions.to_csv('results_rf_imp.csv', index=False)"
   ]
  },
  {
   "cell_type": "markdown",
   "metadata": {},
   "source": [
    "The above rf imp model performed very poor\n",
    "Thus its better to consider the collinear model\n"
   ]
  },
  {
   "cell_type": "code",
   "execution_count": 18,
   "metadata": {},
   "outputs": [
    {
     "name": "stderr",
     "output_type": "stream",
     "text": [
      "/usr/local/lib/python3.4/dist-packages/sklearn/cross_validation.py:41: DeprecationWarning: This module was deprecated in version 0.18 in favor of the model_selection module into which all the refactored classes and functions are moved. Also note that the interface of the new CV iterators are different from that of this module. This module will be removed in 0.20.\n",
      "  \"This module will be removed in 0.20.\", DeprecationWarning)\n"
     ]
    }
   ],
   "source": [
    "#using gbmlight\n",
    "import lightgbm as gbm\n",
    "import xgboost as xgb"
   ]
  },
  {
   "cell_type": "code",
   "execution_count": 56,
   "metadata": {},
   "outputs": [],
   "source": [
    "params = {\n",
    "    'task': 'train',\n",
    "    #'boosting_type': 'gbdt',\n",
    "    'objective': 'regression',\n",
    "    #'metric': {'l2', 'auc'},\n",
    "    #'num_leaves': 31,\n",
    "    #'learning_rate': 0.05,\n",
    "    #'feature_fraction': 0.9,\n",
    "    #'bagging_fraction': 0.8,\n",
    "    #'bagging_freq': 5,\n",
    "    #'verbose': 0\n",
    "}"
   ]
  },
  {
   "cell_type": "code",
   "execution_count": 59,
   "metadata": {},
   "outputs": [],
   "source": [
    "gbm_train = gbm.Dataset(train_ps1[feat],y)"
   ]
  },
  {
   "cell_type": "code",
   "execution_count": 60,
   "metadata": {},
   "outputs": [],
   "source": [
    "gbm_model = gbm.train(params,gbm_train)"
   ]
  },
  {
   "cell_type": "code",
   "execution_count": 61,
   "metadata": {},
   "outputs": [],
   "source": [
    "prediction = gbm_model.predict(test_ps1[feat])"
   ]
  },
  {
   "cell_type": "code",
   "execution_count": 62,
   "metadata": {},
   "outputs": [],
   "source": [
    "submissions = pd.DataFrame({'portfolio_id':test_ps1_demo.portfolio_id, 'return':prediction})\n",
    "submissions.to_csv('results_lightgbm.csv', index=False)"
   ]
  },
  {
   "cell_type": "code",
   "execution_count": 58,
   "metadata": {},
   "outputs": [
    {
     "data": {
      "text/plain": [
       "array([ 0.02496,  0.05496,  0.02496, ...,  0.006  ,  0.006  ,  0.006  ])"
      ]
     },
     "execution_count": 58,
     "metadata": {},
     "output_type": "execute_result"
    }
   ],
   "source": [
    "y = train_ps1['return'].values\n",
    "y\n"
   ]
  },
  {
   "cell_type": "code",
   "execution_count": 64,
   "metadata": {},
   "outputs": [],
   "source": [
    "#using xgb\n",
    "xgb_model = xgb.XGBRegressor().fit(train_ps1[feat],y)"
   ]
  },
  {
   "cell_type": "code",
   "execution_count": 65,
   "metadata": {},
   "outputs": [],
   "source": [
    "prediction = xgb_model.predict(test_ps1[feat])"
   ]
  },
  {
   "cell_type": "code",
   "execution_count": 66,
   "metadata": {},
   "outputs": [],
   "source": [
    "submissions = pd.DataFrame({'portfolio_id':test_ps1_demo.portfolio_id, 'return':prediction})\n",
    "submissions.to_csv('results_xgbboost.csv', index=False)"
   ]
  },
  {
   "cell_type": "markdown",
   "metadata": {},
   "source": [
    "performing the gradient boosting tuning\n"
   ]
  },
  {
   "cell_type": "code",
   "execution_count": 19,
   "metadata": {},
   "outputs": [],
   "source": [
    "from sklearn.ensemble import GradientBoostingRegressor\n",
    "from sklearn import cross_validation, metrics\n",
    "from sklearn.grid_search import GridSearchCV"
   ]
  },
  {
   "cell_type": "code",
   "execution_count": 27,
   "metadata": {},
   "outputs": [],
   "source": [
    "#defing the function to evaluate the models\n",
    "def model_fit(algo, train_data, predictors, performCV=True, printfeatimp = True, cv_folds =5):\n",
    "    #fit the algorithm with data\n",
    "    algo.fit(train_data[predictors], train_data['return'])\n",
    "    \n",
    "    #preditions\n",
    "    train_data_predictions = algo.predict(train_data[predictors])\n",
    "    #algo.predict_proba(train_data[predictors])   -- for classifaction jobs\n",
    "    \n",
    "    #performing cv\n",
    "    if(performCV):\n",
    "        cv_score = cross_validation.cross_val_score(algo,train_data[predictors], train_data['return'],cv = cv_folds,scoring='r2')\n",
    "                                                   \n",
    "        \n",
    "    #printing the models result\n",
    "    print(\"/n mOdel rePort\")\n",
    "    #print(\"Accuracy : %.4g\"%metrics.accuracy_score(train_data[predictors].values, train_data_predictions))\n",
    "    print(\"R2 score %f\"%metrics.r2_score(train_data['return'], train_data_predictions))\n",
    "    \n",
    "    if(performCV):\n",
    "        print(\"CV score : mean %.7g | std %.7g | min %.7g | max %.7g | \"%(np.mean(cv_score),np.std(cv_score),np.min(cv_score), np.max(cv_score)))\n",
    "                                                                         \n",
    "        \n",
    "    if(printfeatimp):\n",
    "        feat_importance = pd.Series(algo.feature_importances_, predictors).sort_values(ascending=False)\n",
    "        feat_importance.plot(kind=\"bar\", title = \"faeture importance\")\n",
    "        plt.ylabel('feature importance score')\n",
    "    "
   ]
  },
  {
   "cell_type": "code",
   "execution_count": 28,
   "metadata": {},
   "outputs": [
    {
     "name": "stdout",
     "output_type": "stream",
     "text": [
      "/n mOdel rePort\n",
      "R2 score 0.936605\n",
      "CV score : mean 0.488153 | std 0.6368329 | min -0.7112241 | max 0.966257 | \n"
     ]
    },
    {
     "data": {
      "image/png": "[encoded data removed]",
      "text/plain": [
       "<matplotlib.figure.Figure at 0x7f7bd31dcf60>"
      ]
     },
     "metadata": {},
     "output_type": "display_data"
    }
   ],
   "source": [
    "#base model\n",
    "gbm0 = GradientBoostingRegressor(random_state=10)\n",
    "model_fit(gbm0,train_ps1, feat)"
   ]
  },
  {
   "cell_type": "code",
   "execution_count": 52,
   "metadata": {},
   "outputs": [
    {
     "data": {
      "text/plain": [
       "GridSearchCV(cv=5, error_score='raise',\n",
       "       estimator=GradientBoostingRegressor(alpha=0.9, criterion='friedman_mse', init=None,\n",
       "             learning_rate=0.15, loss='ls', max_depth=9,\n",
       "             max_features='sqrt', max_leaf_nodes=None,\n",
       "             min_impurity_decrease=0.0, min_impurity_split=None,\n",
       "             min_samples_leaf=50, min_samples_split=400,\n",
       "             min_weight_fraction_leaf=0.0, n_estimators=100,\n",
       "             presort='auto', random_state=10, subsample=0.8, verbose=0,\n",
       "             warm_start=False),\n",
       "       fit_params={}, iid=False, n_jobs=4,\n",
       "       param_grid={'n_estimators': (20, 30, 40, 50, 60, 70, 80, 90, 100)},\n",
       "       pre_dispatch='2*n_jobs', refit=True, scoring='r2', verbose=0)"
      ]
     },
     "execution_count": 52,
     "metadata": {},
     "output_type": "execute_result"
    }
   ],
   "source": [
    "#using grid search to find the optimal no. of learnign rate\n",
    "param_test1 = {'n_estimators':(20,30,40,50,60,70,80,90,100)}\n",
    "gsearch1 = GridSearchCV(estimator=GradientBoostingRegressor(learning_rate=0.15, min_samples_split=400, min_samples_leaf=50, max_depth=9, max_features='sqrt',subsample=0.8, random_state=10),\n",
    "                       param_grid=param_test1, scoring = 'r2', n_jobs=4,iid=False,cv=5)\n",
    "gsearch1.fit(train_ps1[feat], train_ps1['return'])"
   ]
  },
  {
   "cell_type": "code",
   "execution_count": 53,
   "metadata": {},
   "outputs": [
    {
     "data": {
      "text/plain": [
       "([mean: 0.44220, std: 0.58713, params: {'n_estimators': 20},\n",
       "  mean: 0.47324, std: 0.58357, params: {'n_estimators': 30},\n",
       "  mean: 0.48175, std: 0.58259, params: {'n_estimators': 40},\n",
       "  mean: 0.48765, std: 0.58725, params: {'n_estimators': 50},\n",
       "  mean: 0.48687, std: 0.59220, params: {'n_estimators': 60},\n",
       "  mean: 0.48869, std: 0.59649, params: {'n_estimators': 70},\n",
       "  mean: 0.49097, std: 0.59235, params: {'n_estimators': 80},\n",
       "  mean: 0.48997, std: 0.59930, params: {'n_estimators': 90},\n",
       "  mean: 0.48781, std: 0.60431, params: {'n_estimators': 100}],\n",
       " {'n_estimators': 80},\n",
       " 0.49096747345684977)"
      ]
     },
     "execution_count": 53,
     "metadata": {},
     "output_type": "execute_result"
    }
   ],
   "source": [
    "gsearch1.grid_scores_, gsearch1.best_params_, gsearch1.best_score_"
   ]
  },
  {
   "cell_type": "code",
   "execution_count": 42,
   "metadata": {
    "collapsed": true
   },
   "outputs": [
    {
     "data": {
      "text/plain": [
       "([mean: 0.47288, std: 0.62329, params: {'max_depth': 5, 'min_samples_split': 200},\n",
       "  mean: 0.49367, std: 0.57346, params: {'max_depth': 5, 'min_samples_split': 400},\n",
       "  mean: 0.49146, std: 0.55741, params: {'max_depth': 5, 'min_samples_split': 600},\n",
       "  mean: 0.49254, std: 0.53659, params: {'max_depth': 5, 'min_samples_split': 800},\n",
       "  mean: 0.44074, std: 0.71509, params: {'max_depth': 7, 'min_samples_split': 200},\n",
       "  mean: 0.51869, std: 0.56816, params: {'max_depth': 7, 'min_samples_split': 400},\n",
       "  mean: 0.52439, std: 0.52992, params: {'max_depth': 7, 'min_samples_split': 600},\n",
       "  mean: 0.52620, std: 0.52155, params: {'max_depth': 7, 'min_samples_split': 800},\n",
       "  mean: 0.46558, std: 0.68493, params: {'max_depth': 9, 'min_samples_split': 200},\n",
       "  mean: 0.56359, std: 0.51222, params: {'max_depth': 9, 'min_samples_split': 400},\n",
       "  mean: 0.51361, std: 0.54501, params: {'max_depth': 9, 'min_samples_split': 600},\n",
       "  mean: 0.54895, std: 0.50119, params: {'max_depth': 9, 'min_samples_split': 800},\n",
       "  mean: 0.47133, std: 0.67426, params: {'max_depth': 11, 'min_samples_split': 200},\n",
       "  mean: 0.54892, std: 0.54045, params: {'max_depth': 11, 'min_samples_split': 400},\n",
       "  mean: 0.51845, std: 0.56569, params: {'max_depth': 11, 'min_samples_split': 600},\n",
       "  mean: 0.54779, std: 0.51685, params: {'max_depth': 11, 'min_samples_split': 800},\n",
       "  mean: 0.49462, std: 0.62685, params: {'max_depth': 13, 'min_samples_split': 200},\n",
       "  mean: 0.55531, std: 0.52434, params: {'max_depth': 13, 'min_samples_split': 400},\n",
       "  mean: 0.54624, std: 0.51527, params: {'max_depth': 13, 'min_samples_split': 600},\n",
       "  mean: 0.53640, std: 0.51034, params: {'max_depth': 13, 'min_samples_split': 800},\n",
       "  mean: 0.50270, std: 0.62503, params: {'max_depth': 15, 'min_samples_split': 200},\n",
       "  mean: 0.54583, std: 0.56171, params: {'max_depth': 15, 'min_samples_split': 400},\n",
       "  mean: 0.54140, std: 0.53716, params: {'max_depth': 15, 'min_samples_split': 600},\n",
       "  mean: 0.54102, std: 0.52184, params: {'max_depth': 15, 'min_samples_split': 800}],\n",
       " {'max_depth': 9, 'min_samples_split': 400},\n",
       " 0.5635850851944021)"
      ]
     },
     "execution_count": 42,
     "metadata": {},
     "output_type": "execute_result"
    }
   ],
   "source": [
    "#parametere testing 2\n",
    "param_test2 = {'max_depth':np.arange(5,16,2,dtype=int),'min_samples_split':np.arange(200,1000,200,dtype=int)}\n",
    "gsearch2 = GridSearchCV(estimator=GradientBoostingRegressor(learning_rate=0.15, n_estimators=40, \n",
    "                                                            max_features='sqrt',subsample=0.8, random_state=10),\n",
    "                       param_grid=param_test2, scoring = 'r2', n_jobs=4,iid=False,cv=5)\n",
    "gsearch2.fit(train_ps1[feat], train_ps1['return'])\n",
    "gsearch2.grid_scores_, gsearch2.best_params_, gsearch2.best_score_"
   ]
  },
  {
   "cell_type": "code",
   "execution_count": 44,
   "metadata": {},
   "outputs": [
    {
     "data": {
      "text/plain": [
       "([mean: 0.49706, std: 0.59595, params: {'min_samples_leaf': 30},\n",
       "  mean: 0.50164, std: 0.56555, params: {'min_samples_leaf': 40},\n",
       "  mean: 0.48175, std: 0.58259, params: {'min_samples_leaf': 50},\n",
       "  mean: 0.49270, std: 0.54402, params: {'min_samples_leaf': 60},\n",
       "  mean: 0.47716, std: 0.57902, params: {'min_samples_leaf': 70}],\n",
       " {'min_samples_leaf': 40},\n",
       " 0.5016403669437774)"
      ]
     },
     "execution_count": 44,
     "metadata": {},
     "output_type": "execute_result"
    }
   ],
   "source": [
    "param_test3 = {'min_samples_leaf':np.arange(30,71,10)}\n",
    "gsearch3 = GridSearchCV(estimator=GradientBoostingRegressor(learning_rate=0.15, n_estimators=40,max_depth=9, min_samples_split=400, \n",
    "                                                            max_features='sqrt',subsample=0.8, random_state=10),\n",
    "                       param_grid=param_test3, scoring = 'r2', n_jobs=4,iid=False,cv=5)\n",
    "gsearch3.fit(train_ps1[feat], train_ps1['return'])\n",
    "gsearch3.grid_scores_, gsearch3.best_params_, gsearch3.best_score_"
   ]
  },
  {
   "cell_type": "code",
   "execution_count": 45,
   "metadata": {},
   "outputs": [
    {
     "name": "stdout",
     "output_type": "stream",
     "text": [
      "/n mOdel rePort\n",
      "R2 score 0.832847\n",
      "CV score : mean 0.5016404 | std 0.5655519 | min -0.5452555 | max 0.9645974 | \n"
     ]
    },
    {
     "data": {
      "image/png": "[encoded data removed]",
      "text/plain": [
       "<matplotlib.figure.Figure at 0x7f7bd3726e10>"
      ]
     },
     "metadata": {},
     "output_type": "display_data"
    }
   ],
   "source": [
    "model_fit(gsearch3.best_estimator_,train_ps1, feat)"
   ]
  },
  {
   "cell_type": "code",
   "execution_count": 47,
   "metadata": {},
   "outputs": [
    {
     "data": {
      "text/plain": [
       "([mean: 0.52271, std: 0.56952, params: {'max_features': 3},\n",
       "  mean: 0.52677, std: 0.57473, params: {'max_features': 4},\n",
       "  mean: 0.53894, std: 0.56907, params: {'max_features': 5},\n",
       "  mean: 0.53981, std: 0.57156, params: {'max_features': 6},\n",
       "  mean: 0.53469, std: 0.57070, params: {'max_features': 7},\n",
       "  mean: 0.52117, std: 0.57614, params: {'max_features': 8},\n",
       "  mean: 0.49741, std: 0.61492, params: {'max_features': 9},\n",
       "  mean: 0.51080, std: 0.58875, params: {'max_features': 10},\n",
       "  mean: 0.51825, std: 0.56210, params: {'max_features': 11},\n",
       "  mean: 0.51329, std: 0.57332, params: {'max_features': 12},\n",
       "  mean: 0.49906, std: 0.59589, params: {'max_features': 13},\n",
       "  mean: 0.49032, std: 0.61128, params: {'max_features': 14},\n",
       "  mean: 0.48302, std: 0.61493, params: {'max_features': 15},\n",
       "  mean: 0.47469, std: 0.60882, params: {'max_features': 16}],\n",
       " {'max_features': 6},\n",
       " 0.5398056105786283)"
      ]
     },
     "execution_count": 47,
     "metadata": {},
     "output_type": "execute_result"
    }
   ],
   "source": [
    "param_test4 = {'max_features':np.arange(3,17,1)}\n",
    "gsearch4 = GridSearchCV(estimator=GradientBoostingRegressor(learning_rate=0.05, n_estimators=90,max_depth=9, min_samples_split=400, \n",
    "                                                            max_features='sqrt',subsample=0.8, random_state=10),\n",
    "                       param_grid=param_test4, scoring = 'r2', n_jobs=4,iid=False,cv=5)\n",
    "gsearch4.fit(train_ps1[feat], train_ps1['return'])\n",
    "gsearch4.grid_scores_, gsearch4.best_params_, gsearch4.best_score_"
   ]
  },
  {
   "cell_type": "markdown",
   "metadata": {},
   "source": [
    "'max_features': 6\n",
    "max_depth=9\n",
    "min_samples_split=400"
   ]
  },
  {
   "cell_type": "code",
   "execution_count": 54,
   "metadata": {},
   "outputs": [
    {
     "data": {
      "text/plain": [
       "([mean: 0.44518, std: 0.60691, params: {'subsample': 0.40000000000000002},\n",
       "  mean: 0.46179, std: 0.59657, params: {'subsample': 0.45000000000000001},\n",
       "  mean: 0.45090, std: 0.61614, params: {'subsample': 0.5},\n",
       "  mean: 0.46059, std: 0.62570, params: {'subsample': 0.55000000000000004},\n",
       "  mean: 0.47270, std: 0.61047, params: {'subsample': 0.59999999999999998},\n",
       "  mean: 0.47218, std: 0.62775, params: {'subsample': 0.64999999999999991},\n",
       "  mean: 0.47225, std: 0.62522, params: {'subsample': 0.69999999999999996},\n",
       "  mean: 0.46593, std: 0.64555, params: {'subsample': 0.75},\n",
       "  mean: 0.49079, std: 0.60531, params: {'subsample': 0.79999999999999993},\n",
       "  mean: 0.48141, std: 0.62293, params: {'subsample': 0.84999999999999987}],\n",
       " {'subsample': 0.79999999999999993},\n",
       " 0.49078978842855714)"
      ]
     },
     "execution_count": 54,
     "metadata": {},
     "output_type": "execute_result"
    }
   ],
   "source": [
    "param_test5 = {'subsample':np.arange(0.4,0.9,0.05)}\n",
    "gsearch5 = GridSearchCV(estimator=GradientBoostingRegressor(learning_rate=0.05,min_samples_leaf=40, n_estimators=90,max_depth=9, min_samples_split=400, \n",
    "                                                            max_features=6, random_state=10),\n",
    "                       param_grid=param_test5, scoring = 'r2', n_jobs=4,iid=False,cv=5)\n",
    "gsearch5.fit(train_ps1[feat], train_ps1['return'])\n",
    "gsearch5.grid_scores_, gsearch5.best_params_, gsearch5.best_score_"
   ]
  },
  {
   "cell_type": "code",
   "execution_count": 55,
   "metadata": {},
   "outputs": [
    {
     "name": "stdout",
     "output_type": "stream",
     "text": [
      "/n mOdel rePort\n",
      "R2 score 0.829673\n",
      "CV score : mean 0.4907898 | std 0.6053077 | min -0.6467595 | max 0.9643035 | \n"
     ]
    },
    {
     "data": {
      "image/png": "[encoded data removed]",
      "text/plain": [
       "<matplotlib.figure.Figure at 0x7f7bd37262b0>"
      ]
     },
     "metadata": {},
     "output_type": "display_data"
    }
   ],
   "source": [
    "model_fit(gsearch5.best_estimator_,train_ps1, feat)"
   ]
  },
  {
   "cell_type": "code",
   "execution_count": null,
   "metadata": {},
   "outputs": [],
   "source": []
  },
  {
   "cell_type": "markdown",
   "metadata": {},
   "source": [
    "gbm_tuned1 = GradientBoostingRegressor(learning_rate=0.15, n_estimators=90,max_depth=9, )"
   ]
  }
 ],
 "metadata": {
  "kernelspec": {
   "display_name": "Python 3",
   "language": "python",
   "name": "python3"
  },
  "language_info": {
   "codemirror_mode": {
    "name": "ipython",
    "version": 3
   },
   "file_extension": ".py",
   "mimetype": "text/x-python",
   "name": "python",
   "nbconvert_exporter": "python",
   "pygments_lexer": "ipython3",
   "version": "3.4.3"
  }
 },
 "nbformat": 4,
 "nbformat_minor": 2
}
